{
 "cells": [
  {
   "cell_type": "markdown",
   "id": "bacf79e3",
   "metadata": {},
   "source": [
    "# OOP 1: Classes\n",
    "\n",
    "- Creating new types using classes\n",
    "- Types have specific attributes and methods (special functions)\n",
    "- Using new types (classes), we can create object instances of those types\n",
    "- class creation and instantiation syntax: \n",
    "```python\n",
    "class Person:\n",
    "    # some code\n",
    "p1 = Person() # object instantiation using constructor\n",
    "p2 = Person() # object instantiation using constructor\n",
    "```\n",
    "- attribute / method access syntax:\n",
    "```python\n",
    "p1.fname = \"...\" # attribute initialization\n",
    "p1.lname = \"...\" # attribute initialization\n",
    "```"
   ]
  },
  {
   "cell_type": "code",
   "execution_count": 1,
   "id": "561291e4",
   "metadata": {},
   "outputs": [],
   "source": [
    "p1 = {\"fname\": \"Yiyin\", \"lname\": \"Shen\"}\n",
    "\n",
    "p2 = dict()\n",
    "p2[\"fname\"] = \"Victor\"\n",
    "p2[\"lname\"] = \"Suciu\"\n",
    "\n",
    "# TODO: Let's define a Person class\n",
    "class Person:\n",
    "    pass\n",
    "\n",
    "p3 = Person()\n",
    "p3.fname = \"Garry\"\n",
    "p3.lname = \"Chen\""
   ]
  },
  {
   "cell_type": "markdown",
   "id": "db267566",
   "metadata": {},
   "source": [
    "### `Dog` class"
   ]
  },
  {
   "cell_type": "code",
   "execution_count": 2,
   "id": "a2c2cb8a",
   "metadata": {},
   "outputs": [
    {
     "name": "stdout",
     "output_type": "stream",
     "text": [
      "Fido: bark bark bark!\n"
     ]
    },
    {
     "ename": "AttributeError",
     "evalue": "'Dog' object has no attribute 'age'",
     "output_type": "error",
     "traceback": [
      "\u001b[0;31m---------------------------------------------------------------------------\u001b[0m",
      "\u001b[0;31mAttributeError\u001b[0m                            Traceback (most recent call last)",
      "Input \u001b[0;32mIn [2]\u001b[0m, in \u001b[0;36m<cell line: 27>\u001b[0;34m()\u001b[0m\n\u001b[1;32m     25\u001b[0m \u001b[38;5;66;03m# Invoke speak for dog1 and dog2\u001b[39;00m\n\u001b[1;32m     26\u001b[0m speak(dog1)\n\u001b[0;32m---> 27\u001b[0m \u001b[43mspeak\u001b[49m\u001b[43m(\u001b[49m\u001b[43mdog2\u001b[49m\u001b[43m)\u001b[49m\n",
      "Input \u001b[0;32mIn [2]\u001b[0m, in \u001b[0;36mspeak\u001b[0;34m(dog)\u001b[0m\n\u001b[1;32m     13\u001b[0m \u001b[38;5;28;01mdef\u001b[39;00m \u001b[38;5;21mspeak\u001b[39m(dog):\n\u001b[1;32m     14\u001b[0m     \u001b[38;5;124;03m\"\"\"\u001b[39;00m\n\u001b[1;32m     15\u001b[0m \u001b[38;5;124;03m    Puppies (age < 2) bark thrice, whereas dogs bark once.\u001b[39;00m\n\u001b[1;32m     16\u001b[0m \u001b[38;5;124;03m    \"\"\"\u001b[39;00m\n\u001b[0;32m---> 17\u001b[0m     \u001b[38;5;28;01mif\u001b[39;00m \u001b[43mdog\u001b[49m\u001b[38;5;241;43m.\u001b[39;49m\u001b[43mage\u001b[49m \u001b[38;5;241m<\u001b[39m \u001b[38;5;241m2\u001b[39m:\n\u001b[1;32m     18\u001b[0m         \u001b[38;5;66;03m#print(dog.name + \": bark bark bark!\")\u001b[39;00m\n\u001b[1;32m     19\u001b[0m         \u001b[38;5;28mprint\u001b[39m(\u001b[38;5;124mf\u001b[39m\u001b[38;5;124m\"\u001b[39m\u001b[38;5;132;01m{\u001b[39;00mdog\u001b[38;5;241m.\u001b[39mname\u001b[38;5;132;01m}\u001b[39;00m\u001b[38;5;124m: bark bark bark!\u001b[39m\u001b[38;5;124m\"\u001b[39m)\n\u001b[1;32m     20\u001b[0m     \u001b[38;5;28;01melse\u001b[39;00m:\n\u001b[1;32m     21\u001b[0m         \u001b[38;5;66;03m#print(dog.name + \": bark!\")\u001b[39;00m\n",
      "\u001b[0;31mAttributeError\u001b[0m: 'Dog' object has no attribute 'age'"
     ]
    }
   ],
   "source": [
    "class Dog:\n",
    "    pass # eventually we will learn how to write code inside a class\n",
    "\n",
    "# Let's create Dog object instances\n",
    "dog1 = Dog()        # object instantiation using constructor\n",
    "dog1.name = \"Fido\" # attribute initialization\n",
    "dog1.age = 1\n",
    "\n",
    "dog2 = Dog()\n",
    "dog2.name = \"Buddy\"\n",
    "\n",
    "# Regular function that accepts an object instance of the new type\n",
    "def speak(dog):\n",
    "    \"\"\"\n",
    "    Puppies (age < 2) bark thrice, whereas dogs bark once.\n",
    "    \"\"\"\n",
    "    if dog.age < 2:\n",
    "        #print(dog.name + \": bark bark bark!\")\n",
    "        print(f\"{dog.name}: bark bark bark!\")\n",
    "    else:\n",
    "        #print(dog.name + \": bark!\")\n",
    "        print(f\"{dog.name}: bark!\")\n",
    "        \n",
    "\n",
    "# Invoke speak for dog1 and dog2\n",
    "speak(dog1)\n",
    "speak(dog2)"
   ]
  },
  {
   "cell_type": "markdown",
   "id": "dfd61298",
   "metadata": {},
   "source": [
    "### How can we avoid missing filling in attribute values?"
   ]
  },
  {
   "cell_type": "code",
   "execution_count": 3,
   "id": "2f600c9d",
   "metadata": {},
   "outputs": [],
   "source": [
    "# Regular function that accepts an object instance of the new type along with attribute values\n",
    "def init(dog, name, how_old):\n",
    "    dog.name = name\n",
    "    dog.age = how_old"
   ]
  },
  {
   "cell_type": "code",
   "execution_count": 4,
   "id": "f03a7374",
   "metadata": {},
   "outputs": [
    {
     "name": "stdout",
     "output_type": "stream",
     "text": [
      "Buddy: bark!\n"
     ]
    }
   ],
   "source": [
    "dog2 = Dog()\n",
    "init(dog2, \"Buddy\", 10)\n",
    "speak(dog2)"
   ]
  },
  {
   "cell_type": "markdown",
   "id": "9dc1706f",
   "metadata": {},
   "source": [
    "### What if there are two `speak` functions? Let's define a Cat class and corresponding `speak` function."
   ]
  },
  {
   "cell_type": "code",
   "execution_count": 5,
   "id": "4948e7c2",
   "metadata": {},
   "outputs": [],
   "source": [
    "class Cat:\n",
    "    pass\n",
    "\n",
    "cat1 = Cat()\n",
    "\n",
    "def speak(cat):\n",
    "    \"\"\"\n",
    "    Cats meow!\n",
    "    \"\"\"\n",
    "    print(\"meow!\")"
   ]
  },
  {
   "cell_type": "markdown",
   "id": "1de81baf",
   "metadata": {},
   "source": [
    "### What will be the output of the below function calls?"
   ]
  },
  {
   "cell_type": "code",
   "execution_count": 6,
   "id": "2fb8c506",
   "metadata": {},
   "outputs": [
    {
     "name": "stdout",
     "output_type": "stream",
     "text": [
      "meow!\n",
      "meow!\n",
      "meow!\n"
     ]
    }
   ],
   "source": [
    "speak(dog1)\n",
    "speak(dog2)\n",
    "speak(cat1)"
   ]
  },
  {
   "cell_type": "markdown",
   "id": "e322e351",
   "metadata": {},
   "source": [
    "### We lost the previous definition of the `speak` function because it is a function. What if `speak` were a method instead?\n",
    "\n",
    "### **IMPORTANT**: it is not recommended to re-define same `class`. This is shown only for example purposes. You must always go back to the original cell and update the definition there."
   ]
  },
  {
   "cell_type": "code",
   "execution_count": 7,
   "id": "81c9b072",
   "metadata": {},
   "outputs": [],
   "source": [
    "class Dog:\n",
    "    # regular method\n",
    "    def init(dog, name, how_old): \n",
    "        dog.name = name\n",
    "        dog.age = how_old\n",
    "    \n",
    "    # regular method\n",
    "    def speak(dog):\n",
    "        \"\"\"\n",
    "        Puppies (age < 2) bark thrice, whereas dogs bark once.\n",
    "        \"\"\"\n",
    "        if dog.age < 2:\n",
    "            #print(dog.name + \": bark bark bark!\")\n",
    "            print(f\"{dog.name}: bark bark bark!\")\n",
    "        else:\n",
    "            #print(dog.name + \": bark!\")\n",
    "            print(f\"{dog.name}: bark!\")\n",
    "\n",
    "class Cat:\n",
    "    def speak(cat):\n",
    "        \"\"\"\n",
    "        Cats meow!\n",
    "        \"\"\"\n",
    "        print(\"meow!\")\n",
    "        \n",
    "# Let's create object instances\n",
    "dog1 = Dog()\n",
    "Dog.init(dog1, \"Fido\", 1)\n",
    "\n",
    "dog2 = Dog()\n",
    "Dog.init(dog2, \"Buddy\", 10)\n",
    "\n",
    "cat1 = Cat()"
   ]
  },
  {
   "cell_type": "code",
   "execution_count": 8,
   "id": "d3c806a0",
   "metadata": {},
   "outputs": [
    {
     "name": "stdout",
     "output_type": "stream",
     "text": [
      "Fido: bark bark bark!\n",
      "Buddy: bark!\n",
      "meow!\n"
     ]
    }
   ],
   "source": [
    "# speak now is a method, so we need to use . attribute operator for invocation\n",
    "Dog.speak(dog1)\n",
    "Dog.speak(dog2)\n",
    "Cat.speak(cat1)"
   ]
  },
  {
   "cell_type": "markdown",
   "id": "b55afb62",
   "metadata": {},
   "source": [
    "### Type-based dispatch"
   ]
  },
  {
   "cell_type": "markdown",
   "id": "07a41f25",
   "metadata": {},
   "source": [
    "#### Let's create a list of animals and print `type` of each animal."
   ]
  },
  {
   "cell_type": "code",
   "execution_count": 9,
   "id": "10cdae14",
   "metadata": {},
   "outputs": [
    {
     "name": "stdout",
     "output_type": "stream",
     "text": [
      "<class '__main__.Dog'>\n",
      "<class '__main__.Dog'>\n",
      "<class '__main__.Cat'>\n"
     ]
    }
   ],
   "source": [
    "animals = [dog1, dog2, cat1]\n",
    "\n",
    "for animal in animals:\n",
    "    print(type(animal))"
   ]
  },
  {
   "cell_type": "markdown",
   "id": "441f5811",
   "metadata": {},
   "source": [
    "#### Even though `type` output displays additional details, in essense type is just name of the class: `Dog`, `Cat`, etc.,."
   ]
  },
  {
   "cell_type": "code",
   "execution_count": 10,
   "id": "0752057b",
   "metadata": {},
   "outputs": [
    {
     "data": {
      "text/plain": [
       "True"
      ]
     },
     "execution_count": 10,
     "metadata": {},
     "output_type": "execute_result"
    }
   ],
   "source": [
    "type(dog1) == Dog"
   ]
  },
  {
   "cell_type": "code",
   "execution_count": 11,
   "id": "8cc4dcf7",
   "metadata": {},
   "outputs": [
    {
     "data": {
      "text/plain": [
       "True"
      ]
     },
     "execution_count": 11,
     "metadata": {},
     "output_type": "execute_result"
    }
   ],
   "source": [
    "type(cat1) == Cat"
   ]
  },
  {
   "cell_type": "markdown",
   "id": "1450fb9a",
   "metadata": {},
   "source": [
    "#### Let's invoke speak for all animals."
   ]
  },
  {
   "cell_type": "code",
   "execution_count": 12,
   "id": "49624294",
   "metadata": {},
   "outputs": [
    {
     "name": "stdout",
     "output_type": "stream",
     "text": [
      "Fido: bark bark bark!\n",
      "Buddy: bark!\n",
      "meow!\n"
     ]
    }
   ],
   "source": [
    "# v1: bad version\n",
    "for animal in animals:\n",
    "    if type(animal) == Dog:\n",
    "        Dog.speak(animal)\n",
    "    elif type(animal) == Cat:\n",
    "        Cat.speak(animal)\n",
    "    # this conditional will keep growing as we add more and \n",
    "    # more animal classes!"
   ]
  },
  {
   "cell_type": "markdown",
   "id": "30b60079",
   "metadata": {},
   "source": [
    "#### Here is a slightly better version"
   ]
  },
  {
   "cell_type": "code",
   "execution_count": 13,
   "id": "a9b92a90",
   "metadata": {},
   "outputs": [
    {
     "name": "stdout",
     "output_type": "stream",
     "text": [
      "Fido: bark bark bark!\n",
      "Buddy: bark!\n",
      "meow!\n"
     ]
    }
   ],
   "source": [
    "for animal in animals:\n",
    "    type(animal).speak(animal)"
   ]
  },
  {
   "cell_type": "markdown",
   "id": "103c394e",
   "metadata": {},
   "source": [
    "#### Notice how the animal is redundant. There is a better way to invoke methods.\n",
    "\n",
    "- Syntax: `obj_ref.method()`\n",
    "- `obj_ref` itself will be the first argument to the method."
   ]
  },
  {
   "cell_type": "code",
   "execution_count": 14,
   "id": "771fdacc",
   "metadata": {},
   "outputs": [
    {
     "name": "stdout",
     "output_type": "stream",
     "text": [
      "Fido: bark bark bark!\n",
      "Buddy: bark!\n",
      "meow!\n"
     ]
    }
   ],
   "source": [
    "for animal in animals:\n",
    "    # this is equivalent to type(animal).speak(animal)\n",
    "    animal.speak()"
   ]
  },
  {
   "cell_type": "markdown",
   "id": "1cd67c93",
   "metadata": {},
   "source": [
    "#### Let's try passing an argument to `speak` method."
   ]
  },
  {
   "cell_type": "code",
   "execution_count": 15,
   "id": "6b302204",
   "metadata": {},
   "outputs": [
    {
     "ename": "TypeError",
     "evalue": "Dog.speak() takes 1 positional argument but 2 were given",
     "output_type": "error",
     "traceback": [
      "\u001b[0;31m---------------------------------------------------------------------------\u001b[0m",
      "\u001b[0;31mTypeError\u001b[0m                                 Traceback (most recent call last)",
      "Input \u001b[0;32mIn [15]\u001b[0m, in \u001b[0;36m<cell line: 1>\u001b[0;34m()\u001b[0m\n\u001b[0;32m----> 1\u001b[0m \u001b[43mdog1\u001b[49m\u001b[38;5;241;43m.\u001b[39;49m\u001b[43mspeak\u001b[49m\u001b[43m(\u001b[49m\u001b[38;5;124;43m\"\u001b[39;49m\u001b[38;5;124;43mhello\u001b[39;49m\u001b[38;5;124;43m\"\u001b[39;49m\u001b[43m)\u001b[49m\n",
      "\u001b[0;31mTypeError\u001b[0m: Dog.speak() takes 1 positional argument but 2 were given"
     ]
    }
   ],
   "source": [
    "dog1.speak(\"hello\")\n",
    "# Observe how TypeError says 1 positional argument expected"
   ]
  },
  {
   "cell_type": "markdown",
   "id": "9893d7b2",
   "metadata": {},
   "source": [
    "## `self`\n",
    "\n",
    "- refers to the current object instance (aka receiver) inside a class\n",
    "- attribute access inside the class **must** always use `self.<attribute>` syntax"
   ]
  },
  {
   "cell_type": "code",
   "execution_count": null,
   "id": "aee15bfc",
   "metadata": {},
   "outputs": [],
   "source": [
    "class Dog:\n",
    "    # regular method\n",
    "    def init(dog, name, how_old): \n",
    "        dog.name = name\n",
    "        dog.age = how_old\n",
    "    \n",
    "    # regular method\n",
    "    def speak(dog):\n",
    "        \"\"\"\n",
    "        Puppies (age < 2) bark thrice, whereas dogs bark once.\n",
    "        \"\"\"\n",
    "        if d.age < 2:\n",
    "            #print(dog.name + \": bark bark bark!\")\n",
    "            print(f\"{dog.name}: bark bark bark!\")\n",
    "        else:\n",
    "            #print(dog.name + \": bark!\")\n",
    "            print(f\"{dog.name}: bark!\")\n",
    "\n",
    "# Let's create Dog object instances\n",
    "dog1 = Dog()                # instantiation (creating an object)\n",
    "Dog.init(dog1, \"Fido\", 1)   # initialization (adding attributes to an object)\n",
    "\n",
    "dog2 = Dog()\n",
    "Dog.init(dog2, \"Buddy\", 10)\n",
    "\n",
    "# Invoke speak for dog1 and dog2\n",
    "dog1.speak()\n",
    "dog2.speak()"
   ]
  },
  {
   "cell_type": "markdown",
   "id": "14aacb40",
   "metadata": {},
   "source": [
    "# OOP: Special Methods\n",
    "\n",
    "\"Special methods\" is a technical term referring to methods that get called automatically. In Python, they usually begin and end with double underscores.\n",
    "- **Note:** you could define a regular method with `__<method>__`."
   ]
  },
  {
   "cell_type": "markdown",
   "id": "e6e0e834",
   "metadata": {},
   "source": [
    "### `__init__` special method (aka Constructor)\n",
    "\n",
    "- automatically/implicitly invoked when creating an object instance\n",
    "- only one possible constructor in Python"
   ]
  },
  {
   "cell_type": "code",
   "execution_count": null,
   "id": "63c44b83-a2d1-4323-b08f-32c2ea6c16f7",
   "metadata": {},
   "outputs": [],
   "source": [
    "# This is the correct and final version of Dog class\n",
    "class Dog:\n",
    "    # special method \n",
    "    def __init__(self, name, how_old): \n",
    "        print(\"Creating a dog!\")\n",
    "        self.name = name\n",
    "        self.age = how_old\n",
    "    \n",
    "    # regular method\n",
    "    def speak(self):\n",
    "        \"\"\"\n",
    "        Puppies (age < 2) bark thrice, whereas dogs bark once.\n",
    "        \"\"\"\n",
    "        if self.age < 2:\n",
    "            #print(dog.name + \": bark bark bark!\")\n",
    "            print(f\"{self.name}: bark bark bark!\")\n",
    "        else:\n",
    "            #print(dog.name + \": bark!\")\n",
    "            print(f\"{self.name}: bark!\")\n",
    "\n",
    "\n",
    "# Let's create Dog object instances\n",
    "# TODO: implicitly call Dog.__init__()\n",
    "dog1 = Dog()                \n",
    "Dog.init(dog1, \"Fido\", 1) \n",
    "   \n",
    "dog2 = Dog(\"Buddy\", 10) \n",
    "\n",
    "# Invoke speak for dog1 and dog2\n",
    "dog1.speak()\n",
    "dog2.speak()"
   ]
  },
  {
   "cell_type": "markdown",
   "id": "a8343230",
   "metadata": {},
   "source": [
    "## Earthquake example"
   ]
  },
  {
   "cell_type": "code",
   "execution_count": null,
   "id": "b7e25660",
   "metadata": {},
   "outputs": [],
   "source": [
    "# represent earthquakes using classes\n",
    "\n",
    "quake_dicts = [   \n",
    "    {   'loc': {'lat': 35.6791667, 'lon': -117.5221667},\n",
    "        'mag': 1.56,\n",
    "        'place': '14km SW of Searles Valley, CA',\n",
    "        'time': 1634775231730},\n",
    "    {   'loc': {'lat': 43.8144, 'lon': 84.2395},\n",
    "        'mag': 4.6,\n",
    "        'place': '90 km ENE of Xinyuan, China',\n",
    "        'time': 1634775144081},\n",
    "    {   'loc': {'lat': 60.1499, 'lon': -153.0747},\n",
    "        'mag': 1.7,\n",
    "        'place': '69 km E of Port Alsworth, Alaska',\n",
    "        'time': 1634775046520},\n",
    "    {   'loc': {'lat': 19.2353324890137, 'lon': -155.408340454102},\n",
    "        'mag': 1.99000001,\n",
    "        'place': '8 km ENE of P?hala, Hawaii',\n",
    "        'time': 1634774881920},\n",
    "    {   'loc': {'lat': 61.1456, 'lon': -151.1505},\n",
    "        'mag': 1.4,\n",
    "        'place': '3 km W of Beluga, Alaska',\n",
    "        'time': 1634774737242}]\n",
    "\n",
    "def place_miles(quake):\n",
    "    \"\"\"\n",
    "    converts \"place\" km to miles\n",
    "    \"\"\"\n",
    "    place = quake[\"place\"]\n",
    "    km_idx = place.find(\"km\")\n",
    "    \n",
    "    if km_idx < 0:\n",
    "        return place\n",
    "    \n",
    "    num = place[:km_idx].strip()\n",
    "    if not num.isdigit():\n",
    "        return place\n",
    "    \n",
    "    miles = round(float(num) * 0.621371, 2)\n",
    "    return f\"{miles} miles{place[km_idx+2:]}\"\n",
    "\n",
    "place_miles(quake_dicts[4])"
   ]
  },
  {
   "cell_type": "markdown",
   "id": "f60d18d8",
   "metadata": {},
   "source": [
    "### Two possible classes: `Earthquake` and `Location`."
   ]
  },
  {
   "cell_type": "code",
   "execution_count": null,
   "id": "00949a72",
   "metadata": {},
   "outputs": [],
   "source": [
    "# TODO: create Location class\n",
    "class Location:\n",
    "    pass\n",
    "        \n",
    "# create Location object instance\n",
    "loc1 = Location(36.473, -98.7745)\n",
    "loc2 = Location(61.3898, -150.0462)"
   ]
  },
  {
   "cell_type": "markdown",
   "id": "1227af24",
   "metadata": {},
   "source": [
    "#### We can use attribute operator (`.`) to access attributes and print it."
   ]
  },
  {
   "cell_type": "code",
   "execution_count": null,
   "id": "1ce2c189",
   "metadata": {},
   "outputs": [],
   "source": [
    "loc1.lat"
   ]
  },
  {
   "cell_type": "markdown",
   "id": "4767d58d",
   "metadata": {},
   "source": [
    "#### What if we pass the object instance itself as argument to `print`?"
   ]
  },
  {
   "cell_type": "code",
   "execution_count": null,
   "id": "a10e3a71",
   "metadata": {},
   "outputs": [],
   "source": [
    "print(loc1) # invokes loc1.__str__()"
   ]
  },
  {
   "cell_type": "markdown",
   "id": "8251d2f4",
   "metadata": {},
   "source": [
    "#### Or display the reference variable?"
   ]
  },
  {
   "cell_type": "code",
   "execution_count": null,
   "id": "5d9af92a",
   "metadata": {},
   "outputs": [],
   "source": [
    "loc1 # invokes loc1.__repr__()"
   ]
  },
  {
   "cell_type": "markdown",
   "id": "7ab6f8d9",
   "metadata": {},
   "source": [
    "### `__str__` and `__repr__` special methods\n",
    "\n",
    "- `__str__` is implicitly invoked when we invoke `print` (user friendly form)\n",
    "- `__repr__` (aka representation) is implicitly invoked when displaying the object instance (programmer friendly form)\n",
    "- Both methods must return a `str` value\n",
    "\n",
    "### `f-strings`\n",
    "\n",
    "- aka formatted string literals\n",
    "- easier and quicker way of formatting `str` than `str.format(...)` method\n",
    "- Syntax: \n",
    "```python\n",
    "f\"{variable}...\"\n",
    "```\n",
    "- inside `{}` you can specify a variable or even call a function or a method"
   ]
  },
  {
   "cell_type": "code",
   "execution_count": null,
   "id": "c160125a",
   "metadata": {},
   "outputs": [],
   "source": [
    "s = \"A\\nB\"\n",
    "print(s) # invokes s.__str__()"
   ]
  },
  {
   "cell_type": "code",
   "execution_count": null,
   "id": "b2b7b9ff",
   "metadata": {},
   "outputs": [],
   "source": [
    "s # invokes s.__repr__()"
   ]
  },
  {
   "cell_type": "code",
   "execution_count": null,
   "id": "47b578d8",
   "metadata": {},
   "outputs": [],
   "source": [
    "# TODO: go back and define __str__ and __repr__ methods for Loction class"
   ]
  },
  {
   "cell_type": "code",
   "execution_count": null,
   "id": "6e6a8d98",
   "metadata": {},
   "outputs": [],
   "source": [
    "print(loc1) # invokes loc1.__str__()"
   ]
  },
  {
   "cell_type": "code",
   "execution_count": null,
   "id": "78959678",
   "metadata": {},
   "outputs": [],
   "source": [
    "loc1 # invokes loc1.__repr__()"
   ]
  },
  {
   "cell_type": "markdown",
   "id": "67f7d896",
   "metadata": {},
   "source": [
    "### `_repr_html` special method --- `jupyter` special method (not a special method for Python)\n",
    "\n",
    "- Observe that we have single `_`instead of `__`\n",
    "- Enables us to create a HTML display for the object instances\n",
    "- Invoked when using displaying reference variable inside `jupyter`\n",
    "- **IMPORTANT**: `_repr_html_` won't work in `.py` script file\n",
    "- Used by `pandas` to display `DataFrame` (uses HTML table format)"
   ]
  },
  {
   "cell_type": "code",
   "execution_count": null,
   "id": "77cb1cdb",
   "metadata": {},
   "outputs": [],
   "source": [
    "# TODO: create Earthquake class\n",
    "\n",
    "class Earthquake:\n",
    "    def __init__(self, quake_details):\n",
    "        self.place = place_miles(???)\n",
    "        self.time = ???\n",
    "        self.mag = ???\n",
    "        self.loc = ???\n",
    "        \n",
    "    def __repr__(self):\n",
    "        return f\"Magnitude {self.mag} earthquake at {self.place} ({self.loc})\"\n",
    "        \n",
    "    # def _repr_html_(self): \n",
    "        # assumes largest mag is 6\n",
    "         \n",
    "        # size is a local variable, not an attribute\n",
    "        \n",
    "e1 = Earthquake(quake_dicts[0])\n",
    "e2 = Earthquake(quake_dicts[1])\n",
    "e3 = Earthquake(quake_dicts[4])"
   ]
  },
  {
   "cell_type": "code",
   "execution_count": null,
   "id": "d8b56936",
   "metadata": {},
   "outputs": [],
   "source": [
    "e1 # invokes e1._repr_html_()"
   ]
  },
  {
   "cell_type": "code",
   "execution_count": null,
   "id": "f60b7407",
   "metadata": {},
   "outputs": [],
   "source": [
    "e2 # invokes e2._repr_html_()"
   ]
  },
  {
   "cell_type": "code",
   "execution_count": null,
   "id": "5e8c98eb",
   "metadata": {},
   "outputs": [],
   "source": [
    "e3 # invokes e3._repr_html_()"
   ]
  },
  {
   "cell_type": "markdown",
   "id": "2a96b834",
   "metadata": {},
   "source": [
    "#### If we have a list of references, `jupyter` defaults back to `__repr__`"
   ]
  },
  {
   "cell_type": "code",
   "execution_count": null,
   "id": "91c3ca81",
   "metadata": {},
   "outputs": [],
   "source": [
    "# TODO: go back and define __repr__ special method for Earthquake class\n",
    "[e1, e2, e3]"
   ]
  },
  {
   "cell_type": "markdown",
   "id": "40e1fca0",
   "metadata": {},
   "source": [
    "### `__eq__` special method\n",
    "\n",
    "- Enables us to define how `==` should work when we compare two object instances of our custom class type\n",
    "- Automatically invoked when using `==` comparison operator\n",
    "- Takes two arguments (two object instances: `self` and other)\n",
    "- Must return a `bool` value"
   ]
  },
  {
   "cell_type": "code",
   "execution_count": null,
   "id": "d6d0664d",
   "metadata": {},
   "outputs": [],
   "source": [
    "# TODO: go back and define __eq__ special method for Location class"
   ]
  },
  {
   "cell_type": "code",
   "execution_count": null,
   "id": "54f3cf36",
   "metadata": {},
   "outputs": [],
   "source": [
    "loc1 == loc1 # implicitly invokes loc1.__eq__(loc1)"
   ]
  },
  {
   "cell_type": "code",
   "execution_count": null,
   "id": "46eb95a3",
   "metadata": {},
   "outputs": [],
   "source": [
    "loc1 == loc2 # implicitly invokes loc1.__eq__(loc2)"
   ]
  },
  {
   "cell_type": "markdown",
   "id": "6a191f87",
   "metadata": {},
   "source": [
    "### `__lt__` special method\n",
    "\n",
    "- Enables us to define how `<` should work when we compare two object instances of our custom class type\n",
    "- Automatically invoked when using `<` comparison operator\n",
    "- Takes two arguments (two object instances: `self` and other)\n",
    "- Must return a `bool` value"
   ]
  },
  {
   "cell_type": "code",
   "execution_count": null,
   "id": "cc27b25f",
   "metadata": {},
   "outputs": [],
   "source": [
    "# TODO: go back and define __eq__ special method for Earthquake class"
   ]
  },
  {
   "cell_type": "code",
   "execution_count": null,
   "id": "2f94a661",
   "metadata": {},
   "outputs": [],
   "source": [
    "e1 < e2 # implicitly invokes e1.__lt__(e2)"
   ]
  },
  {
   "cell_type": "code",
   "execution_count": null,
   "id": "191ab8ab",
   "metadata": {},
   "outputs": [],
   "source": [
    "e2 < e3 # implicitly invokes e2.__lt__(e3)"
   ]
  },
  {
   "cell_type": "markdown",
   "id": "651a199d-322d-4fcf-bc00-d7641202699c",
   "metadata": {},
   "source": [
    "### `sort` on a list of earthquakes"
   ]
  },
  {
   "cell_type": "markdown",
   "id": "273d0016-0806-4da0-8f49-8e3fabe81ffe",
   "metadata": {},
   "source": [
    "#### Creating a list of `Earthquake` object instances using traditional `for` loop."
   ]
  },
  {
   "cell_type": "code",
   "execution_count": null,
   "id": "0e88f9e3-6892-4ec5-a6db-3444cda4781c",
   "metadata": {},
   "outputs": [],
   "source": [
    "quakes = []\n",
    "\n",
    "for quake_dict in quake_dicts:\n",
    "    quakes.append(???)\n",
    "    \n",
    "quakes"
   ]
  },
  {
   "cell_type": "markdown",
   "id": "b44e3e02-5763-45f6-85c4-e7c219f42267",
   "metadata": {},
   "source": [
    "#### Creating a list of `Earthquake` object instances using comprehension"
   ]
  },
  {
   "cell_type": "code",
   "execution_count": null,
   "id": "19ab7c95-d91f-4ecc-9c75-5dea0d2c8735",
   "metadata": {},
   "outputs": [],
   "source": [
    "quakes = ???\n",
    "quakes"
   ]
  },
  {
   "cell_type": "markdown",
   "id": "9790ead9-9f02-41e4-b537-1b917f540f3f",
   "metadata": {},
   "source": [
    "#### `sort` method on a list enables us to sort in-place (that is modifies the original list object instance ordering)\n",
    "\n",
    "- `sort` uses <, which uses `obj1 < obj2` which is the same as `obj1.__lt__(obj2)`."
   ]
  },
  {
   "cell_type": "code",
   "execution_count": null,
   "id": "40f3e373-1bc5-4d37-b4af-c7b860cb3d4a",
   "metadata": {},
   "outputs": [],
   "source": [
    "quakes.sort()\n",
    "quakes"
   ]
  },
  {
   "cell_type": "markdown",
   "id": "70fa98bd-050d-4c36-9d10-543826986222",
   "metadata": {},
   "source": [
    "Unlike `sort` method, `sorted` built-in function returns a new list (new object instance with sorted values)."
   ]
  },
  {
   "cell_type": "code",
   "execution_count": null,
   "id": "b489ba0f-a59a-4bb4-873e-c11c4a4c7571",
   "metadata": {},
   "outputs": [],
   "source": [
    "# repeating list comprehension because we used `sort` on quakes list; so it is now sorted\n",
    "sorted_quakes = sorted([Earthquake(quake_dict) for quake_dict in quake_dicts]) \n",
    "sorted_quakes"
   ]
  },
  {
   "cell_type": "markdown",
   "id": "2cc777f2-7cec-4e44-a542-827b74dc5eac",
   "metadata": {},
   "source": [
    "### List of all special methods for comparison\n",
    "\n",
    "```python\n",
    "object.__lt__(self, other)\n",
    "object.__le__(self, other)\n",
    "object.__eq__(self, other)\n",
    "object.__ne__(self, other)\n",
    "object.__gt__(self, other)\n",
    "object.__ge__(self, other)\n",
    "```"
   ]
  },
  {
   "cell_type": "code",
   "execution_count": null,
   "id": "69d51776-c189-4051-a34e-bd7c68168da5",
   "metadata": {},
   "outputs": [],
   "source": [
    "e1 <= e2 # need to implement special method __le__"
   ]
  },
  {
   "cell_type": "markdown",
   "id": "c97cc8d8-a9b3-45c9-92d2-450459246b88",
   "metadata": {},
   "source": [
    "### `range` built-in function review"
   ]
  },
  {
   "cell_type": "code",
   "execution_count": null,
   "id": "bfd80211-8bdc-4f38-9fbc-1b5c2ddd2fa3",
   "metadata": {},
   "outputs": [],
   "source": [
    "for i in range(10):\n",
    "    print(i) # sequence of numbers from 0 to 9"
   ]
  },
  {
   "cell_type": "code",
   "execution_count": null,
   "id": "4892168a-570d-481d-a985-a6b2408e92ad",
   "metadata": {},
   "outputs": [],
   "source": [
    "for i in range(2, 10):\n",
    "    print(i) # sequence of numbers from 2 to 9"
   ]
  },
  {
   "cell_type": "markdown",
   "id": "24492e45-61dc-4bb5-8afd-a19bccb89372",
   "metadata": {},
   "source": [
    "We can store this sequence into a variable and use typical sequence operations (ex: indexing, slicing, etc.,)."
   ]
  },
  {
   "cell_type": "code",
   "execution_count": null,
   "id": "fefdda34-8841-42ae-9425-42aed02ebc4d",
   "metadata": {},
   "outputs": [],
   "source": [
    "r = range(2, 10)"
   ]
  },
  {
   "cell_type": "code",
   "execution_count": null,
   "id": "7dea4ed9-176b-425d-9d00-b3c365549b02",
   "metadata": {},
   "outputs": [],
   "source": [
    "print(r[0])\n",
    "print(r[1])\n",
    "print(r[-1])"
   ]
  },
  {
   "cell_type": "code",
   "execution_count": null,
   "id": "a70d599e-5b99-4085-8dd9-d7f00d585e12",
   "metadata": {},
   "outputs": [],
   "source": [
    "r[:2] # displays the corresponding range function call"
   ]
  },
  {
   "cell_type": "markdown",
   "id": "adcb2179-cd43-4e8c-a246-d10cf09dc2a8",
   "metadata": {},
   "source": [
    "### `__getitem__` special method\n",
    "- `obj[key]` => `obj.__getitem__(key)`\n",
    "- enables us to define how lookup / indexing (aka subscript) works\n",
    "- Must return an appropriate object instance"
   ]
  },
  {
   "cell_type": "markdown",
   "id": "977170ec-9936-4c1d-803f-66a65754d24c",
   "metadata": {},
   "source": [
    "### `Range` class"
   ]
  },
  {
   "cell_type": "code",
   "execution_count": null,
   "id": "6227ab68-3d29-4631-92ac-35c20d3025ff",
   "metadata": {},
   "outputs": [],
   "source": [
    "class Range:\n",
    "    # our version\n",
    "    def __init__(self, v1, v2=None):\n",
    "        if v2 != None:\n",
    "            self.lower = ???\n",
    "            self.upper = ???\n",
    "        else:\n",
    "            self.lower = ???\n",
    "            self.upper = ???\n",
    "            \n",
    "    def __getitem__(self, index):\n",
    "        # TODO"
   ]
  },
  {
   "cell_type": "code",
   "execution_count": null,
   "id": "e5889062-a16c-4220-852d-4952b942e585",
   "metadata": {},
   "outputs": [],
   "source": [
    "r = Range(2, 10)\n",
    "print(r[0]) # should be 2"
   ]
  },
  {
   "cell_type": "code",
   "execution_count": null,
   "id": "e59973d9-c480-48b1-93ca-77922ae0c71f",
   "metadata": {},
   "outputs": [],
   "source": [
    "# TODO: go back and define __getitem__ for Range"
   ]
  },
  {
   "cell_type": "code",
   "execution_count": null,
   "id": "f9fcbe2e-9f23-47a9-90d1-1e175fab2462",
   "metadata": {},
   "outputs": [],
   "source": [
    "print(r[1]) # should be 3"
   ]
  },
  {
   "cell_type": "code",
   "execution_count": null,
   "id": "af11adaa-5e11-4dac-a7fc-859f17062eb3",
   "metadata": {},
   "outputs": [],
   "source": [
    "print(r[20]) # this is bad"
   ]
  },
  {
   "cell_type": "code",
   "execution_count": null,
   "id": "384c66a7-244d-402b-be08-5a5f322d9427",
   "metadata": {},
   "outputs": [],
   "source": [
    "# TODO: go back and handle out of range\n",
    "# Let's raise IndexError"
   ]
  },
  {
   "cell_type": "code",
   "execution_count": null,
   "id": "b5e09872-f60a-4d1f-8ab2-d0c4fdc60f8d",
   "metadata": {},
   "outputs": [],
   "source": [
    "print(r[20]) "
   ]
  },
  {
   "cell_type": "code",
   "execution_count": null,
   "id": "08dbc44a-2bd9-42b2-95d9-974aeb3bd0af",
   "metadata": {},
   "outputs": [],
   "source": [
    "print(r[-1]) # this is bad"
   ]
  },
  {
   "cell_type": "code",
   "execution_count": null,
   "id": "d83c6b14-68c3-422f-ab25-4aa17a4b60cf",
   "metadata": {},
   "outputs": [],
   "source": [
    "# TODO: go back and handle out of range\n",
    "# Let's raise NotImplementedError"
   ]
  },
  {
   "cell_type": "code",
   "execution_count": null,
   "id": "465f5199-b0d6-4f16-bf5a-bce228003bbc",
   "metadata": {},
   "outputs": [],
   "source": [
    "print(r[-1]) # this is bad"
   ]
  },
  {
   "cell_type": "code",
   "execution_count": null,
   "id": "b6563dc3-0cd4-40ab-9f38-8fb78285d7b4",
   "metadata": {},
   "outputs": [],
   "source": [
    "for num in r: # looks at r[0], r[1], r[2], keeps going until it encounters IndexError\n",
    "    print(num)"
   ]
  },
  {
   "cell_type": "markdown",
   "id": "88fba242-c546-475a-bd9f-02e4e7f072c3",
   "metadata": {},
   "source": [
    "### Context Managers\n",
    "- objects that you can use with the `with` statement"
   ]
  },
  {
   "cell_type": "markdown",
   "id": "15632259-276e-4210-8197-6d1dbb054476",
   "metadata": {},
   "source": [
    "Regular way of writing content into file."
   ]
  },
  {
   "cell_type": "code",
   "execution_count": null,
   "id": "39c3af32-f427-4b6f-ac62-246b4b96db79",
   "metadata": {},
   "outputs": [],
   "source": [
    "f = open(\"file.txt\", \"w\")\n",
    "f.write(\"hello, \")\n",
    "f.write(\"world!\\n\")\n",
    "f.close()"
   ]
  },
  {
   "cell_type": "markdown",
   "id": "1cee494c-da51-44e0-8eda-fca69bf989b7",
   "metadata": {},
   "source": [
    "Regular way of reading content from a file."
   ]
  },
  {
   "cell_type": "code",
   "execution_count": null,
   "id": "08622ad5-c9c5-487c-9200-cbaceab8b642",
   "metadata": {},
   "outputs": [],
   "source": [
    "f = open(\"file.txt\")\n",
    "print(f.read())\n",
    "f.close()"
   ]
  },
  {
   "cell_type": "markdown",
   "id": "d001d49b-af10-42f5-b6e6-ec24216010ae",
   "metadata": {},
   "source": [
    "What if we crashed in the middle of having a file open for writing? That is a problem. "
   ]
  },
  {
   "cell_type": "code",
   "execution_count": null,
   "id": "63926791-19ef-45d9-b2e8-cbe83b83443c",
   "metadata": {},
   "outputs": [],
   "source": [
    "f = open(\"crash.txt\", \"w\")\n",
    "f.write(\"hi\")\n",
    "assert 1 == 2 # CRASH\n",
    "f.write(\"bye\")\n",
    "f.close()"
   ]
  },
  {
   "cell_type": "markdown",
   "id": "6a91af18-8cd0-4187-9472-112f026a3625",
   "metadata": {},
   "source": [
    "Writing files is a slow operation. Python `write` doesn't directly go on to disk. Instead the file object buffers the data in memory (RAM). Eventually all the data gets written to disk - when we `close` the file object."
   ]
  },
  {
   "cell_type": "markdown",
   "id": "f8a297d8-7910-4964-99e1-37c8c4142709",
   "metadata": {},
   "source": [
    "#### Using `with` for reading content from a file\n",
    "- automatically closes file handle even if there an error"
   ]
  },
  {
   "cell_type": "code",
   "execution_count": null,
   "id": "069ab04e-f9a9-4d6f-aed5-6c94d192b728",
   "metadata": {},
   "outputs": [],
   "source": [
    "??? open(\"crash.txt\", \"w\") ???:\n",
    "    f.write(\"hi\")\n",
    "    assert 1 == 2 # CRASH\n",
    "    f.write(\"bye\")"
   ]
  },
  {
   "cell_type": "markdown",
   "id": "02e926d3-bf5c-425f-8db5-6614f98dbae7",
   "metadata": {},
   "source": [
    "### `matplotlib` review\n",
    "\n",
    "- `subplots` function enable us to create an empty plot\n",
    "- `rcParams` is like a `dict`, which contains various aesthetic settings, including \"font.size\""
   ]
  },
  {
   "cell_type": "code",
   "execution_count": null,
   "id": "974556fb-64ff-4acc-bb7e-2502c4f84364",
   "metadata": {},
   "outputs": [],
   "source": [
    "import matplotlib.pyplot as plt\n",
    "plt.subplots(figsize=(1,1))"
   ]
  },
  {
   "cell_type": "code",
   "execution_count": null,
   "id": "c41d83c1-4851-40ae-be5e-885e6a34fb4c",
   "metadata": {},
   "outputs": [],
   "source": [
    "plt.rcParams[\"font.size\"]"
   ]
  },
  {
   "cell_type": "markdown",
   "id": "7001e4a7-8847-4f03-8a04-c7b214ef33ab",
   "metadata": {},
   "source": [
    "### Context Managers for custom classes: `__enter__` and `__exit__` special methods\n",
    "- special methods: `__enter__` and `__exit__`\n",
    "- `with` statement automatically invokes both `__enter__` and `__exit__` special methods"
   ]
  },
  {
   "cell_type": "markdown",
   "id": "41aef91b-3693-45dc-ac69-d681f77261c6",
   "metadata": {},
   "source": [
    "### `DoubleFont` class\n",
    "\n",
    "- let's define a class which will enable us double the font in plots when we use it\n",
    "- once we are done using it, we want the font size to go back to normal (using `with`)\n",
    "- Goal:\n",
    "```python\n",
    "plt.subplots(figsize=(1,1)) # regular font\n",
    "with DoubleFont():\n",
    "    plt.subplots(figsize=(1,1)) # large font\n",
    "plt.subplots(figsize=(1,1)) # regular font\n",
    "```"
   ]
  },
  {
   "cell_type": "code",
   "execution_count": null,
   "id": "986e5ed0-0d18-4744-83b8-46687741d669",
   "metadata": {},
   "outputs": [],
   "source": [
    "class DoubleFont:\n",
    "    def __enter__(self):\n",
    "        print(\"ENTER\")\n",
    "        ???\n",
    "        \n",
    "    def __exit__(self):\n",
    "        print(\"EXIT\")\n",
    "        ???\n",
    "\n",
    "plt.subplots(figsize=(1,1)) # regular font\n",
    "with DoubleFont():\n",
    "    plt.subplots(figsize=(1,1)) # large font\n",
    "plt.subplots(figsize=(1,1)) # regular font"
   ]
  }
 ],
 "metadata": {
  "kernelspec": {
   "display_name": "Python 3 (ipykernel)",
   "language": "python",
   "name": "python3"
  },
  "language_info": {
   "codemirror_mode": {
    "name": "ipython",
    "version": 3
   },
   "file_extension": ".py",
   "mimetype": "text/x-python",
   "name": "python",
   "nbconvert_exporter": "python",
   "pygments_lexer": "ipython3",
   "version": "3.10.6"
  }
 },
 "nbformat": 4,
 "nbformat_minor": 5
}
