{
 "cells": [
  {
   "cell_type": "markdown",
   "id": "111ce1d1",
   "metadata": {},
   "source": [
    "# OOP Inheritance\n",
    "\n",
    "- ability to leverage existing classes and methods to create new classes that are similar"
   ]
  },
  {
   "cell_type": "markdown",
   "id": "e6ce504a",
   "metadata": {},
   "source": [
    "### Copy/pasted code is a red flag?\n",
    "\n",
    "- If we have a block of code which we have copy/pasted 10 times, what is better to use instead?\n",
    "- If we have a block of code which we have copy/pasted in two places and just changed a couple of variables, what is better to use instead?\n",
    "- Similarly, when we want to create a child class, we always avoid copy/pasting code from the parent class"
   ]
  },
  {
   "cell_type": "markdown",
   "id": "199f385f",
   "metadata": {},
   "source": [
    "### Inheritance syntax & concepts\n",
    "- Basic inheritance syntax: \n",
    "```python \n",
    "class <child>(<parent>):\n",
    "```\n",
    "- to access name of the current class, we can use this syntax (`__name__` is a special attribute): \n",
    "```python\n",
    "type(self).__name__\n",
    "```\n",
    "\n",
    "### Overriding\n",
    "- definition of a method or special method in child class always overrides the definition of the same method or special method in parent class\n",
    "- Sometimes, we would want to override a method and call parent method within our overriden definition\n",
    "- we can call parent class method (or special method) using two options (option 2 is more commonly used):\n",
    "1. ```python\n",
    "<parent_class>.<method>(self, other arguments, ...)\n",
    "```\n",
    "2. ```python\n",
    "super().<method>(other arguments, ...)\n",
    "``` \n",
    "- `super` is a built-in function that returns a temporary object of the superclass / parent class"
   ]
  },
  {
   "cell_type": "markdown",
   "id": "3e72cd1b",
   "metadata": {},
   "source": [
    "### `Animal`, `Dog`, `Rabbit` classes"
   ]
  },
  {
   "cell_type": "code",
   "execution_count": 1,
   "id": "6dd4bd3a",
   "metadata": {},
   "outputs": [],
   "source": [
    "class Animal:\n",
    "    def __init__(self, name):\n",
    "        self.name = name    \n",
    "\n",
    "    def __str__(self):\n",
    "        return f\"{type(self).__name__}: {self.name}\"\n",
    "\n",
    "    def __repr__(self):\n",
    "        return f\"{type(self).__name__}:('{self.name}')\"\n",
    "        \n",
    "class Rabbit(Animal):\n",
    "    # this method overrides __str__ method from Animal\n",
    "    def __str__(self):  \n",
    "        return f\"{self.name}: I am a rabbit!\"\n",
    "\n",
    "class Dog(Animal):\n",
    "    # this method overrides __init__ method from Animal by calling __init__ in Animal\n",
    "    def __init__(self, name, age): \n",
    "        #Animal.__init__(self, name)\n",
    "        super().__init__(name)      \n",
    "        self.age = age\n",
    "    \n",
    "    def speak(self):\n",
    "        print(\"bark\")"
   ]
  },
  {
   "cell_type": "code",
   "execution_count": 2,
   "id": "0ba9a2e2",
   "metadata": {},
   "outputs": [
    {
     "name": "stdout",
     "output_type": "stream",
     "text": [
      "Dog: Fido\n",
      "Ruby: I am a rabbit!\n"
     ]
    }
   ],
   "source": [
    "fido = Dog(\"Fido\", 3)\n",
    "print(fido) # invokes Animal.__str__\n",
    "\n",
    "ruby = Rabbit(\"Ruby\")\n",
    "print(ruby) # invokes Animal.__str__"
   ]
  },
  {
   "cell_type": "markdown",
   "id": "2311c63d",
   "metadata": {},
   "source": [
    "### How to determine which method will get invoked?\n",
    "- Method resolution order syntax:\n",
    "```python\n",
    "<some_class>.__mro__\n",
    "```"
   ]
  },
  {
   "cell_type": "code",
   "execution_count": 3,
   "id": "1ff3de96",
   "metadata": {},
   "outputs": [
    {
     "data": {
      "text/plain": [
       "(__main__.Dog, __main__.Animal, object)"
      ]
     },
     "execution_count": 3,
     "metadata": {},
     "output_type": "execute_result"
    }
   ],
   "source": [
    "Dog.__mro__"
   ]
  },
  {
   "cell_type": "code",
   "execution_count": 4,
   "id": "0fc2567c",
   "metadata": {},
   "outputs": [
    {
     "data": {
      "text/plain": [
       "(__main__.Rabbit, __main__.Animal, object)"
      ]
     },
     "execution_count": 4,
     "metadata": {},
     "output_type": "execute_result"
    }
   ],
   "source": [
    "Rabbit.__mro__"
   ]
  },
  {
   "cell_type": "markdown",
   "id": "65e6978b",
   "metadata": {},
   "source": [
    "# Recursion\n",
    "### Factorial of a number"
   ]
  },
  {
   "cell_type": "markdown",
   "id": "6de0060c",
   "metadata": {},
   "source": [
    "### Goal: work from examples to get to recursive code\n",
    "\n",
    "#### Step 1: Come up with examples\n",
    "##### Step 1a: First come up with simple example(s) - for example: 0! = 1\n",
    "##### Step 1b: Come up with other examples with increasing level of complexity\n",
    "\n",
    "\n",
    "```python\n",
    "0! = 1\n",
    "1! = 1*1 = 1\n",
    "2! = 2*1 = 2\n",
    "3! = 3*2*1 = 6\n",
    "4! = 4*3*2*1 = 24\n",
    "5! = 5*4*3*2*1 = 120\n",
    "```\n",
    "\n",
    "#### Step 2: Identify self-reference: represent complex examples in terms of simpler example(s)\n",
    "```python\n",
    "0! = 1 # don't need a pattern at the start\n",
    "1! = 0! * 1 \n",
    "2! = 1! * 2\n",
    "3! = 2! * 3\n",
    "4! = 3! * 4\n",
    "5! = 4! * 5\n",
    "```\n",
    "\n",
    "#### Step 3: Recursive definition\n",
    "```python\n",
    "0! is 1\n",
    "N! is N * (N-1)! for N > 1\n",
    "```\n",
    "\n",
    "#### Step 4: Convert to Python code\n",
    "- **Rule 1**: Base case should always be defined and be terminal\n",
    "- **Rule 2**: Recursive case should make progress towards base case"
   ]
  },
  {
   "cell_type": "markdown",
   "id": "5a81ee63",
   "metadata": {},
   "source": [
    "#### PythonTutor example"
   ]
  },
  {
   "cell_type": "code",
   "execution_count": 5,
   "id": "55371207",
   "metadata": {},
   "outputs": [
    {
     "data": {
      "text/plain": [
       "2"
      ]
     },
     "execution_count": 5,
     "metadata": {},
     "output_type": "execute_result"
    }
   ],
   "source": [
    "def fact(n):\n",
    "    if n == 0:\n",
    "        return 1\n",
    "    return n * fact(n-1)\n",
    "\n",
    "fact(2)"
   ]
  },
  {
   "cell_type": "code",
   "execution_count": null,
   "id": "24046982",
   "metadata": {},
   "outputs": [],
   "source": []
  }
 ],
 "metadata": {
  "kernelspec": {
   "display_name": "Python 3 (ipykernel)",
   "language": "python",
   "name": "python3"
  },
  "language_info": {
   "codemirror_mode": {
    "name": "ipython",
    "version": 3
   },
   "file_extension": ".py",
   "mimetype": "text/x-python",
   "name": "python",
   "nbconvert_exporter": "python",
   "pygments_lexer": "ipython3",
   "version": "3.10.6"
  }
 },
 "nbformat": 4,
 "nbformat_minor": 5
}
