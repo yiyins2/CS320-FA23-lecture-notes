{
 "cells": [
  {
   "cell_type": "markdown",
   "id": "2f385b68",
   "metadata": {},
   "source": [
    "# Graphs\n",
    "\n",
    "Two main components:\n",
    "- **Nodes**: some kind of entity. Examples: Person, Computer, Place, Event, etc., \n",
    "- **Edges**: relationships between those entities."
   ]
  },
  {
   "cell_type": "markdown",
   "id": "3d6757a4",
   "metadata": {},
   "source": [
    "### Examples\n",
    "\n",
    "* Git: https://www.oreilly.com/library/view/git-pocket-guide/9781449327507/ch01.html#fig0101\n",
    "* Political Allignment: https://www.reddit.com/r/dataisbeautiful/comments/1q7b3s/voting_relationships_between_senators_in_the/\n",
    "* Evolution: https://commons.wikimedia.org/wiki/File:The_Ancestors_Tale_Mammals_Phylogenetic_Tree_in_mya.png\n",
    "* Friendship: https://facebook.com/notes/facebook-engineering/visualizing-friendships/469716398919/\n",
    "* Accounting: https://wisc-ds-projects.github.io/f19/past/langston-ellen-zan.pdf#page=22\n",
    "* Transit: https://arxiv.org/pdf/1611.01890.pdf#page=14\n",
    "\n",
    "### Graphviz Setup\n",
    "\n",
    "- Execute the below terminal commands\n",
    "\n",
    "```\n",
    "sudo apt install -y graphviz\n",
    "pip3 install graphviz\n",
    "```"
   ]
  },
  {
   "cell_type": "code",
   "execution_count": null,
   "id": "ab111ed5-ded4-44f7-99e5-dae046890d44",
   "metadata": {},
   "outputs": [],
   "source": [
    "# import statements\n"
   ]
  },
  {
   "cell_type": "markdown",
   "id": "0505c1dd",
   "metadata": {},
   "source": [
    "### `Graph` Syntax\n",
    "\n",
    "- Creating `Graph` object:\n",
    "```python\n",
    "g = Graph()\n",
    "dg = Digraph()\n",
    "```\n",
    "- Creating a `node`:\n",
    "```python\n",
    "g.node(<name>, <description>)\n",
    "```\n",
    "- Creating an `edge`:\n",
    "```python\n",
    "g.edge(<SOURCE NODE>, <TARGET NODE>, label=<description>, color=<value>, pendwidth=<value>)\n",
    "```\n",
    "- Displaying the graph object instance invokes `_repr_svg_` (similar to `_repr_html`)\n",
    "- We could directly add edges which will add missing nodes."
   ]
  },
  {
   "cell_type": "code",
   "execution_count": null,
   "id": "5837dbd7-3989-44e0-8284-1522e852891a",
   "metadata": {},
   "outputs": [],
   "source": []
  },
  {
   "cell_type": "markdown",
   "id": "6b248218",
   "metadata": {},
   "source": [
    "### Be careful: `graphviz` does not throw an error when you use incorrect parameter name!\n",
    "- Read through \"graphviz attributes\" to see details: https://graphviz.org/doc/info/attrs.html."
   ]
  },
  {
   "cell_type": "code",
   "execution_count": null,
   "id": "e94f297f-b7f0-4a38-bbeb-7779fbd7b6aa",
   "metadata": {},
   "outputs": [],
   "source": [
    "g = Graph()\n",
    "g.node(\"A\", \"Madison\")\n",
    "g.node(\"B\", \"Chicago\")\n",
    "g.edge(\"A\", \"B\", label=\"2h40\\ntolls=yes\", colors=\"red\")\n",
    "g.edge(\"A\", \"B\", label=\"3h10\\ntolls=no\", penwidth=\"5\")\n",
    "g"
   ]
  },
  {
   "cell_type": "markdown",
   "id": "1347be90",
   "metadata": {},
   "source": [
    "## Paths\n",
    "\n",
    "A **path** is a sequence of edges to get from one node to another."
   ]
  },
  {
   "cell_type": "code",
   "execution_count": null,
   "id": "426d7460",
   "metadata": {},
   "outputs": [],
   "source": [
    "# not connected\n",
    "g = Graph()\n",
    "g.edge(\"A\", \"B\")\n",
    "g.edge(\"B\", \"C\")\n",
    "g.edge(\"C\", \"D\")\n",
    "g.edge(\"D\", \"F\")\n",
    "g.edge(\"A\", \"F\")\n",
    "g.node(\"E\")\n",
    "g"
   ]
  },
  {
   "cell_type": "code",
   "execution_count": null,
   "id": "923f609e",
   "metadata": {},
   "outputs": [],
   "source": [
    "# connected\n",
    "g = Graph()\n",
    "g.edge(\"A\", \"B\")\n",
    "g.edge(\"B\", \"C\")\n",
    "g.edge(\"C\", \"D\")\n",
    "g.edge(\"D\", \"F\")\n",
    "g.edge(\"A\", \"F\")\n",
    "g.edge(\"A\", \"E\")\n",
    "g"
   ]
  },
  {
   "cell_type": "markdown",
   "id": "22ff8ea7",
   "metadata": {},
   "source": [
    "### Observations:\n",
    "\n",
    "- no path between A and E\n",
    "- B => A => F is a path\n",
    "- B => C => D => F is a path\n",
    "- future: what is the SHORTEST path between two nodes\n",
    "\n",
    "### More terminology\n",
    "\n",
    "- **connected** means there is a path between any two nodes\n",
    "- **cycle** means a path with same start+end, no repeating edges; for example: A,B,C,D,F,A"
   ]
  },
  {
   "cell_type": "markdown",
   "id": "274d67e1",
   "metadata": {},
   "source": [
    "- **parent** means the outgoing end of an edge\n",
    "- **child** means the incoming end of an edge\n",
    "- **strongly connected** (same as **connected** with no direction) => there's a path from any start to any end\n",
    "- **weakly connected** => it would be connected if we ignored the direction of edges"
   ]
  },
  {
   "cell_type": "code",
   "execution_count": null,
   "id": "c1877373",
   "metadata": {},
   "outputs": [],
   "source": [
    "# weakly connected\n",
    "# cyclic\n",
    "g = Digraph()\n",
    "g.edge(\"A\", \"B\")\n",
    "g.edge(\"B\", \"C\")\n",
    "g.edge(\"C\", \"D\")\n",
    "g.edge(\"D\", \"F\")\n",
    "g.edge(\"F\", \"A\")\n",
    "g.edge(\"A\", \"E\")\n",
    "g"
   ]
  },
  {
   "cell_type": "code",
   "execution_count": null,
   "id": "f168d058",
   "metadata": {},
   "outputs": [],
   "source": [
    "# strongly connected\n",
    "g = Digraph()\n",
    "g.edge(\"A\", \"B\")\n",
    "g.edge(\"B\", \"C\")\n",
    "g.edge(\"C\", \"D\")\n",
    "g.edge(\"D\", \"F\")\n",
    "g.edge(\"F\", \"A\")\n",
    "g.edge(\"A\", \"E\")\n",
    "g.edge(\"E\", \"A\")\n",
    "g"
   ]
  },
  {
   "cell_type": "markdown",
   "id": "6d1a9c44-99ae-4579-b656-4a466d348563",
   "metadata": {},
   "source": [
    "## Directed Graphs: DAGs (Directed Acyclic Graphs - no cycles)"
   ]
  },
  {
   "cell_type": "code",
   "execution_count": null,
   "id": "db52edf9",
   "metadata": {},
   "outputs": [],
   "source": [
    "# acyclic\n",
    "g = Digraph()\n",
    "g.edge(\"A\", \"B\")\n",
    "g.edge(\"B\", \"C\")\n",
    "g.edge(\"C\", \"D\")\n",
    "g.edge(\"D\", \"F\")\n",
    "g.edge(\"A\", \"F\")\n",
    "g.edge(\"A\", \"E\")\n",
    "g"
   ]
  },
  {
   "cell_type": "markdown",
   "id": "257bf913",
   "metadata": {},
   "source": [
    "## Trees\n",
    "\n",
    "- **Tree**: DAG where one node (the **root**) has no parents and all others have exactly one parent\n",
    "- **root**: any node with no parents\n",
    "- **leaf**: is any node with no children"
   ]
  },
  {
   "cell_type": "code",
   "execution_count": null,
   "id": "7e04db8c",
   "metadata": {},
   "outputs": [],
   "source": [
    "# not a tree\n",
    "g = Digraph()\n",
    "g.edge(\"A\", \"B\")\n",
    "g.edge(\"B\", \"C\")\n",
    "g.edge(\"C\", \"D\")\n",
    "g.edge(\"D\", \"F\")\n",
    "g.edge(\"A\", \"F\")\n",
    "g.edge(\"A\", \"E\")\n",
    "g"
   ]
  },
  {
   "cell_type": "code",
   "execution_count": null,
   "id": "17e1112d-701e-4be8-9698-cde5dde4c598",
   "metadata": {},
   "outputs": [],
   "source": [
    "# not a tree\n",
    "g = Digraph()\n",
    "g.edge(\"A\", \"B\")\n",
    "g.edge(\"B\", \"C\")\n",
    "g.edge(\"C\", \"D\")\n",
    "#g.edge(\"D\", \"F\")\n",
    "g.edge(\"A\", \"F\")\n",
    "g.edge(\"A\", \"E\")\n",
    "g"
   ]
  }
 ],
 "metadata": {
  "kernelspec": {
   "display_name": "Python 3 (ipykernel)",
   "language": "python",
   "name": "python3"
  },
  "language_info": {
   "codemirror_mode": {
    "name": "ipython",
    "version": 3
   },
   "file_extension": ".py",
   "mimetype": "text/x-python",
   "name": "python",
   "nbconvert_exporter": "python",
   "pygments_lexer": "ipython3",
   "version": "3.10.6"
  }
 },
 "nbformat": 4,
 "nbformat_minor": 5
}
