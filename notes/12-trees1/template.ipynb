{
 "cells": [
  {
   "cell_type": "markdown",
   "id": "d684d88e-e96d-4392-b4d6-92d3f1669b32",
   "metadata": {},
   "source": [
    "# Binary Search Trees"
   ]
  },
  {
   "cell_type": "markdown",
   "id": "8da93b35",
   "metadata": {},
   "source": [
    "### Review **tree** terminology:\n",
    "\n",
    "- **Tree**: DAG (directed acyclic graph) with exactly one **root** (has no parents) and all other nodes have exactly one parent\n",
    "- **root**: any node with no parents\n",
    "- **leaf**: any node with no children"
   ]
  },
  {
   "cell_type": "code",
   "execution_count": null,
   "id": "66ba808a",
   "metadata": {},
   "outputs": [],
   "source": [
    "from graphviz import Graph, Digraph\n",
    "import random\n",
    "import math"
   ]
  },
  {
   "cell_type": "markdown",
   "id": "aa0f43f8",
   "metadata": {},
   "source": [
    "### Special cases of trees\n",
    "- **Binary tree**:  a tree, where each has *at most* two children"
   ]
  },
  {
   "cell_type": "code",
   "execution_count": null,
   "id": "d62b95dc-9f28-4e6e-a3a0-e0aac6e6eb3b",
   "metadata": {},
   "outputs": [],
   "source": [
    "g = Digraph()\n",
    "g.edge(\"1\", \"2\", label=\"left\")\n",
    "g.edge(\"1\", \"3\", label=\"right\")\n",
    "g"
   ]
  },
  {
   "cell_type": "markdown",
   "id": "61015756",
   "metadata": {},
   "source": [
    "### Review: recursive functions\n",
    "1. *Category 1*: functions that return some computation\n",
    "2. *Category 2*: functions that do some action (for example: printing, appending, etc.,)"
   ]
  },
  {
   "cell_type": "markdown",
   "id": "a6b914b2",
   "metadata": {},
   "source": [
    "## Binary tree"
   ]
  },
  {
   "cell_type": "code",
   "execution_count": null,
   "id": "847dc240-ca01-4f1a-a4d7-13fed4fe3995",
   "metadata": {},
   "outputs": [],
   "source": [
    "# TODO: define Node class\n",
    "class Node:\n",
    "    def __init__(self, label):\n",
    "        pass\n",
    "    \n",
    "    # Category 2: functions that do some action\n",
    "    def dump(self, prefix=\"\", suffix=\"\"):\n",
    "        \"\"\"\n",
    "        prints out name of every node in the tree with some basic formatting\n",
    "        \"\"\"\n",
    "        pass\n",
    "        # recurse left\n",
    "        \n",
    "        \n",
    "        # TODO: what is the simplest example in this case?\n",
    "        \n",
    "       \n",
    "        # recurse right\n",
    "        \n",
    "            \n",
    "    # Category 1: functions that return some computation\n",
    "    def search(self, target):\n",
    "        \"\"\"\n",
    "        returns True/False, if target is somewhere in the tree\n",
    "        \"\"\"\n",
    "        pass\n",
    "\n",
    "node1 = Node(1)\n",
    "node2 = Node(2)\n",
    "node3 = Node(3)\n",
    "node4 = Node(4)\n",
    "node1.left = node2\n",
    "node1.right = node3\n",
    "node2.left = node4\n",
    "node1.dump()"
   ]
  },
  {
   "cell_type": "markdown",
   "id": "e81ed3ef",
   "metadata": {},
   "source": [
    "### Let's come up with testcases for `search(...)`"
   ]
  },
  {
   "cell_type": "code",
   "execution_count": null,
   "id": "c5248d0a",
   "metadata": {},
   "outputs": [],
   "source": [
    "print(node1.search(1)) # should be True\n",
    "print(node1.search(2)) # should be True\n",
    "print(node1.search(3)) # should be True\n",
    "print(node1.search(4)) # should be True\n",
    "print(node1.search(5)) # should be False"
   ]
  },
  {
   "cell_type": "markdown",
   "id": "c05e82e7",
   "metadata": {},
   "source": [
    "### How many times is search(...) called, in the worst case?  \n",
    "- Assume tree has *N* nodes.  \n",
    "- Complexity is: **O(N)**"
   ]
  },
  {
   "cell_type": "markdown",
   "id": "3c372194",
   "metadata": {},
   "source": [
    "## Binary Search Tree\n",
    "\n",
    "- special case of *Binary trees*\n",
    "- **BST rule**: any node's value is bigger than every value in its left subtree, and and smaller than every value in its right subtree\n",
    "- TODO: write an efficient search for a BST (better complexity than O(N))\n",
    "- TODO: write a method to add values to a BST, while preserving the BST rule"
   ]
  },
  {
   "cell_type": "markdown",
   "id": "db06527c-2abe-4134-aa56-3d8022cb2173",
   "metadata": {},
   "source": [
    "#### Code folding nbextension\n",
    "\n",
    "- Installation steps on terminal: \n",
    "    - `pip3 install jupyter_contrib_nbextensions`\n",
    "    - `jupyter contrib nbextension install --user`\n",
    "    - `jupyter nbextension enable codefolding/main`\n",
    "\n",
    "- Go to \"jupyterlab\" > \"Settings\" > \"Advanced Settings Editor\" > \"Notebook\" > \"Rulers\" > enable \"Code Folding\" (there should be three such settings).\n"
   ]
  },
  {
   "cell_type": "code",
   "execution_count": null,
   "id": "8626a339-7724-4613-8e54-700cfe8bef47",
   "metadata": {},
   "outputs": [],
   "source": [
    "class BSTNode:\n",
    "    def __init__(self, label):\n",
    "        self.label = label\n",
    "        self.left = None\n",
    "        self.right = None\n",
    "    \n",
    "    def dump(self, prefix=\"\", suffix=\"\"):\n",
    "        \"\"\"\n",
    "        prints out name of every node in the tree with some basic formatting\n",
    "        \"\"\"\n",
    "        if self.left != None:\n",
    "            self.left.dump(prefix+\"\\t\", \"(LEFT)\")\n",
    "        print(prefix, self.label, suffix)\n",
    "        if self.right != None:\n",
    "            self.right.dump(prefix+\"\\t\", \"(RIGHT)\")\n",
    "            \n",
    "    def search(self, target):\n",
    "        \"\"\"\n",
    "        returns True/False, if target is somewhere in the tree\n",
    "        \"\"\"\n",
    "        if target == self.label:\n",
    "            return True\n",
    "\n",
    "        if self.left != None:\n",
    "            if self.left.search(target):\n",
    "                return True\n",
    "        \n",
    "        if self.right != None:\n",
    "            if self.right.search(target):\n",
    "                return True\n",
    "        \n",
    "        return False\n",
    "    \n",
    "    def add(self, label):\n",
    "        \"\"\"\n",
    "        Finds the correct spot for label and adds a new node with it.\n",
    "        Assumes that tree already contains at least one node -> TODO: discuss why?\n",
    "        Raises ValueError if label is already on the tree.\n",
    "        \"\"\"\n",
    "        if label < self.label:\n",
    "            # go left\n",
    "            \n",
    "                # recurse left\n",
    "                \n",
    "        elif label > self.label:\n",
    "            # go right\n",
    "            \n",
    "                # recurse right\n",
    "                \n",
    "        else:\n",
    "            "
   ]
  },
  {
   "cell_type": "markdown",
   "id": "1d6935d8",
   "metadata": {},
   "source": [
    "### Does this tree satisfy BST rule? If not, which node violates it and how can we fix its position?\n",
    "- Let's not displace other children node to find a new spot for the node in violation of BST rule."
   ]
  },
  {
   "cell_type": "code",
   "execution_count": null,
   "id": "eea26163-0610-41c5-b310-d318e6f1cb51",
   "metadata": {},
   "outputs": [],
   "source": [
    "root = BSTNode(10)\n",
    "root.left = BSTNode(2)\n",
    "root.left.left = BSTNode(1)\n",
    "root.left.right = BSTNode(4)\n",
    "root.left.right.left = BSTNode(3)\n",
    "root.right = BSTNode(15)\n",
    "root.right.left = BSTNode(12)\n",
    "root.right.right = BSTNode(19)\n",
    "root.right.left.left = Node(8)\n",
    "root.dump()"
   ]
  },
  {
   "cell_type": "markdown",
   "id": "1d56266b",
   "metadata": {},
   "source": [
    "### BST after fix"
   ]
  },
  {
   "cell_type": "code",
   "execution_count": null,
   "id": "dfbfc6e8",
   "metadata": {},
   "outputs": [],
   "source": [
    "root = BSTNode(10)\n",
    "root.left = BSTNode(2)\n",
    "root.left.left = BSTNode(1)\n",
    "root.left.right = BSTNode(4)\n",
    "root.left.right.right = BSTNode(8)\n",
    "root.left.right.left = BSTNode(3)\n",
    "root.right = BSTNode(15)\n",
    "root.right.left = BSTNode(12)\n",
    "root.right.right = BSTNode(19)\n",
    "#root.right.left.left = Node(8)\n",
    "root.dump()"
   ]
  },
  {
   "cell_type": "code",
   "execution_count": null,
   "id": "61b93235-2702-474d-a601-e8fcbe5c3bcb",
   "metadata": {},
   "outputs": [],
   "source": [
    "# TODO: update \"search(...)\" definition for BSTNode"
   ]
  },
  {
   "cell_type": "markdown",
   "id": "77d45804",
   "metadata": {},
   "source": [
    "### Testcases for BST `search(...)`"
   ]
  },
  {
   "cell_type": "code",
   "execution_count": null,
   "id": "e2ef8e73",
   "metadata": {},
   "outputs": [],
   "source": [
    "print(root.search(10)) # should be True\n",
    "print(root.search(11)) # should be False\n",
    "print(root.search(19)) # should be True\n",
    "print(root.search(5))  # should be False"
   ]
  },
  {
   "cell_type": "markdown",
   "id": "b5be023f-5565-4fae-8e08-922b8da8dd5a",
   "metadata": {},
   "source": [
    "### Recursive `add` method\n",
    "- Manually creating a tree is cumbersome and subject to mistakes (violations of BST rule)"
   ]
  },
  {
   "cell_type": "code",
   "execution_count": null,
   "id": "0cd51cf2",
   "metadata": {},
   "outputs": [],
   "source": [
    "values = [10, 2, 1, 4, 8, 3, 15, 12, 19]\n",
    "\n",
    "???\n",
    "    \n",
    "root.dump(\"\", \"(ROOT)\")"
   ]
  },
  {
   "cell_type": "markdown",
   "id": "6ae7786b",
   "metadata": {},
   "source": [
    "### How many times is BST search(...) called, in the worst case?  \n",
    "- Assume tree has *N* nodes.  \n",
    "- Complexity is: **O(h)**, where **h** is the height of the tree.\n",
    "- \"Balanced\" means the BST is as short as possible (as full as possible for each level)\n",
    "- For a balanced BST, h = **log2(N)**"
   ]
  },
  {
   "cell_type": "markdown",
   "id": "7fe4c99e-6228-4eb4-9ea8-32c7bf0af9d5",
   "metadata": {},
   "source": [
    "### Recursive `height` method\n",
    "\n",
    "- **Height**: the number of edges on the longest root-to-leaf path\n",
    "- left subtree has height 4, right subtree has height 6, my height = 7\n",
    "- left subtree has height 4, right subtree has height 4, my height = 5\n",
    "- left subtree has height 10, right subtree has height 0, my height = 11\n",
    "- left subtree has height of l, right subtree has height of r, my height = max(l, r) + 1\n",
    "- What is the simplest case for height calculation? An empty tree (no nodes at all)"
   ]
  },
  {
   "cell_type": "code",
   "execution_count": null,
   "id": "ecfb4e60-bda4-4a84-a09c-a3c93757fbaa",
   "metadata": {},
   "outputs": [],
   "source": [
    "def height(node):\n",
    "    \"\"\"\n",
    "    Calculates height of the BST.\n",
    "    Height: the number of edges on the longest root-to-leaf path\n",
    "    \"\"\"\n",
    "    pass"
   ]
  },
  {
   "cell_type": "code",
   "execution_count": null,
   "id": "18d8de1d",
   "metadata": {},
   "outputs": [],
   "source": [
    "# TODO: Let's implement and invoke the height method\n",
    "height(root)"
   ]
  },
  {
   "cell_type": "markdown",
   "id": "bf3fede3-b52e-4738-bbd7-9509f13d6d30",
   "metadata": {},
   "source": [
    "### Tree containing 100 values\n",
    "- let's use range(...) to produce a sequence of 100 integers\n",
    "- recall that range(...) returns a sequence in increasing order\n",
    "- what will be the height of this tree? **99**"
   ]
  },
  {
   "cell_type": "code",
   "execution_count": null,
   "id": "820f3596",
   "metadata": {},
   "outputs": [],
   "source": [
    "values = list(range(100))\n",
    "# Q: Is this tree balanced?\n",
    "# A: No, it is the worst possible BST for these numbers, that is\n",
    "#    it is a linked list!\n",
    "\n",
    "root = BSTNode(values[0])\n",
    "for val in values[1:]:\n",
    "    root.add(val)\n",
    "    \n",
    "print(height(root))\n",
    "# root.dump(\"\", \"(ROOT)\")"
   ]
  },
  {
   "cell_type": "markdown",
   "id": "d78445f6-b92f-42e8-bf4c-c19fb31fe1fa",
   "metadata": {},
   "source": [
    "#### Let's use `random` module `shuffle` function to randomly order the sequence of 100 numbers.\n",
    "- in-place re-ordering of numbers (just like `sort` method)"
   ]
  },
  {
   "cell_type": "code",
   "execution_count": null,
   "id": "c07664be",
   "metadata": {},
   "outputs": [],
   "source": [
    "values = list(range(100))\n",
    "???\n",
    "# Q: Is this tree balanced?\n",
    "# A: depends on the shuffling, you can check using math.log2(N)\n",
    "\n",
    "root = BSTNode(values[0])\n",
    "for val in values[1:]:\n",
    "    root.add(val)\n",
    "    \n",
    "print(height(root))\n",
    "# root.dump(\"\", \"(ROOT)\")"
   ]
  },
  {
   "cell_type": "code",
   "execution_count": null,
   "id": "4d87a7e7",
   "metadata": {},
   "outputs": [],
   "source": [
    "math.log2(100)"
   ]
  },
  {
   "cell_type": "markdown",
   "id": "702cdc70-6a47-4b2e-ac44-de9cef29aed2",
   "metadata": {},
   "source": [
    "### Balanced BSTs / Self-balancing BSTs\n",
    "- not a covered topic for the purpose of this course\n",
    "- you are **not required** to know how to do this\n",
    "- you can explore the below recursive function definition if you are interested"
   ]
  },
  {
   "cell_type": "code",
   "execution_count": null,
   "id": "bd5aa50f",
   "metadata": {},
   "outputs": [],
   "source": [
    "# Recrusive function that\n",
    "def sorted_array_to_bst(nums, bst_nums):\n",
    "    \"\"\"\n",
    "    Produces best ordering nums (a list of sorted numbers),\n",
    "    for the purpose of creating a balanced BST.\n",
    "    Writes new ordering of numbers into bst_nums.\n",
    "    \"\"\"\n",
    "    if len(nums) == 0:\n",
    "        return None\n",
    "    elif len(nums) == 1:\n",
    "        bst_nums.append(nums[0])\n",
    "    else:\n",
    "        mid_index = len(nums)//2\n",
    "        bst_nums.append(nums[mid_index])\n",
    "        \n",
    "        # recurse left\n",
    "        left_val = sorted_array_to_bst(nums[:mid_index], bst_nums)\n",
    "        if left_val != None:\n",
    "            bst_nums.append(left_val)\n",
    "\n",
    "        # recurse right\n",
    "        right_val = sorted_array_to_bst(nums[mid_index+1:], bst_nums)\n",
    "        if right_val != None:\n",
    "            bst_nums.append(right_val)"
   ]
  },
  {
   "cell_type": "code",
   "execution_count": null,
   "id": "98b9148d",
   "metadata": {},
   "outputs": [],
   "source": [
    "bst_nums = []\n",
    "sorted_array_to_bst(list(range(5)), bst_nums)\n",
    "bst_nums"
   ]
  },
  {
   "cell_type": "code",
   "execution_count": null,
   "id": "f1288713",
   "metadata": {},
   "outputs": [],
   "source": [
    "bst_nums = []\n",
    "sorted_array_to_bst(list(range(100)), bst_nums)\n",
    "\n",
    "root = BSTNode(bst_nums[0])\n",
    "for val in bst_nums[1:]:\n",
    "    root.add(val)\n",
    "\n",
    "height(root)"
   ]
  },
  {
   "cell_type": "code",
   "execution_count": null,
   "id": "399fe31a",
   "metadata": {},
   "outputs": [],
   "source": [
    "bst_nums = []\n",
    "sorted_array_to_bst(list(range(5)), bst_nums)\n",
    "\n",
    "root = BSTNode(bst_nums[0])\n",
    "for val in bst_nums[1:]:\n",
    "    root.add(val)\n",
    "\n",
    "height(root)\n",
    "root.dump(\"\", \"(ROOT)\")"
   ]
  }
 ],
 "metadata": {
  "kernelspec": {
   "display_name": "Python 3 (ipykernel)",
   "language": "python",
   "name": "python3"
  },
  "language_info": {
   "codemirror_mode": {
    "name": "ipython",
    "version": 3
   },
   "file_extension": ".py",
   "mimetype": "text/x-python",
   "name": "python",
   "nbconvert_exporter": "python",
   "pygments_lexer": "ipython3",
   "version": "3.10.6"
  }
 },
 "nbformat": 4,
 "nbformat_minor": 5
}
