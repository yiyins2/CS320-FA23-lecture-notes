{
 "cells": [
  {
   "cell_type": "markdown",
   "id": "d684d88e-e96d-4392-b4d6-92d3f1669b32",
   "metadata": {},
   "source": [
    "# Graph Search 1\n",
    "\n",
    "- Depth First Search (Stack)\n",
    "- Breadth First Search (Queue)"
   ]
  },
  {
   "cell_type": "code",
   "execution_count": 1,
   "id": "66ba808a",
   "metadata": {},
   "outputs": [],
   "source": [
    "from graphviz import Digraph"
   ]
  },
  {
   "cell_type": "markdown",
   "id": "e042962c",
   "metadata": {},
   "source": [
    "### Depth First Search (DFS) \n",
    "- Finds a path from one node to another -- works on any directed graph"
   ]
  },
  {
   "cell_type": "code",
   "execution_count": 2,
   "id": "c00e99eb",
   "metadata": {},
   "outputs": [],
   "source": [
    "def example(num):\n",
    "    g = Graph()\n",
    "    if num == 1:\n",
    "        g.node(\"A\")\n",
    "        g.edge(\"B\", \"C\")\n",
    "        g.edge(\"C\", \"D\")\n",
    "        g.edge(\"D\", \"B\")\n",
    "    elif num == 2:\n",
    "        g.edge(\"A\", \"B\")\n",
    "        g.edge(\"B\", \"C\")\n",
    "        g.edge(\"C\", \"D\")\n",
    "        g.edge(\"D\", \"E\")\n",
    "        g.edge(\"A\", \"E\")\n",
    "    elif num == 3:\n",
    "        g.edge(\"A\", \"B\")\n",
    "        g.edge(\"A\", \"C\")\n",
    "        g.edge(\"B\", \"D\")\n",
    "        g.edge(\"B\", \"E\")\n",
    "        g.edge(\"C\", \"F\")\n",
    "        g.edge(\"C\", \"G\")\n",
    "    elif num == 4:\n",
    "        g.edge(\"A\", \"B\")\n",
    "        g.edge(\"A\", \"C\")\n",
    "        g.edge(\"B\", \"D\")\n",
    "        g.edge(\"B\", \"E\")\n",
    "        g.edge(\"C\", \"F\")\n",
    "        g.edge(\"C\", \"G\")\n",
    "        g.edge(\"E\", \"Z\")\n",
    "        g.edge(\"C\", \"Z\")\n",
    "        g.edge(\"B\", \"A\")\n",
    "    elif num == 5:\n",
    "        width = 8\n",
    "        height = 4\n",
    "        for L1 in range(height-1):\n",
    "            L2 = L1 + 1\n",
    "            for i in range(width-(height-L1-1)):\n",
    "                for j in range(width-(height-L2-1)):\n",
    "                    node1 = str(L1)+\"-\"+str(i)\n",
    "                    node2 = str(L2)+\"-\"+str(j)\n",
    "                    g.edge(node1, node2)\n",
    "    else:\n",
    "        raise Exception(\"no such example\")\n",
    "    return g"
   ]
  },
  {
   "cell_type": "markdown",
   "id": "6690b3be",
   "metadata": {},
   "source": [
    "### For a regular graph, you need a new class `Graph` to keep track of the whole graph.\n",
    "- Why? Remember graphs need not have a \"root\" node, which means there is no one origin point"
   ]
  },
  {
   "cell_type": "code",
   "execution_count": 3,
   "id": "8f5e8b06",
   "metadata": {},
   "outputs": [],
   "source": [
    "class Graph:\n",
    "    def __init__(self):\n",
    "        # name => Node\n",
    "        self.nodes = {}\n",
    "        # to keep track which nodes have already been visited\n",
    "        self.visited = set()\n",
    "\n",
    "    def node(self, name):\n",
    "        node = Node(name)\n",
    "        self.nodes[name] = node\n",
    "        node.graph = self\n",
    "    \n",
    "    def edge(self, src, dst):\n",
    "        \"\"\"\n",
    "        Automatically adds missing nodes.\n",
    "        \"\"\"\n",
    "        for name in [src, dst]:\n",
    "            if not name in self.nodes:\n",
    "                self.node(name)\n",
    "        self.nodes[src].children.append(self.nodes[dst])\n",
    "\n",
    "    def _repr_svg_(self):\n",
    "        \"\"\"\n",
    "        Draws the graph nodes and edges iteratively.\n",
    "        \"\"\"\n",
    "        g = Digraph()\n",
    "        for n in self.nodes:\n",
    "            g.node(n)\n",
    "            for child in self.nodes[n].children:\n",
    "                g.edge(n, child.name)\n",
    "        return g._repr_image_svg_xml()\n",
    "    \n",
    "    def dfs_search_v1(self, src_name, dst_name):\n",
    "        \"\"\"\n",
    "        Clears the visited set and invokes dfs_search using Node object instance\n",
    "        with name src_name.\n",
    "        \"\"\"\n",
    "        # Q: is this method recursive?\n",
    "        # A: no, it is just invoking dfs_search method for Node object instance\n",
    "        #    dfs_search method in Node class is recursive\n",
    "        #    These methods in two different classes just happen to share the same name\n",
    "        self.visited.clear()\n",
    "        return self.nodes[src_name].dfs_search_v1(self.nodes[dst_name])\n",
    "    \n",
    "    def dfs_search(self, src_name, dst_name):\n",
    "        self.visited.clear()\n",
    "        return self.nodes[src_name].dfs_search(self.nodes[dst_name])\n",
    "\n",
    "class Node:\n",
    "    def __init__(self, name):\n",
    "        self.name = name\n",
    "        self.children = []\n",
    "        self.graph = None # back reference\n",
    "        self.finder = None # who found me during BFS\n",
    "        \n",
    "    def __repr__(self):\n",
    "        return self.name\n",
    "    \n",
    "    def dfs_search_v1(self, dst):\n",
    "        \"\"\"\n",
    "        Returns True / False when path to dst is found / not found\n",
    "        \"\"\"\n",
    "        # TODO: what is the simplest case? current node is the dst\n",
    "        if self in self.graph.visited:\n",
    "            return False\n",
    "        self.graph.visited.add(self)\n",
    "\n",
    "        if self == dst:\n",
    "            return True\n",
    "        \n",
    "        for child in self.children:\n",
    "            if child.dfs_search_v1(dst):\n",
    "                return True\n",
    "            \n",
    "        return False\n",
    "\n",
    "    def dfs_search(self, dst):\n",
    "        \"\"\"\n",
    "        Returns the actual path to the dst as a tuple or None otherwise\n",
    "        \"\"\"\n",
    "        # TODO: what is the simplest case? current node is the dst\n",
    "        if self in self.graph.visited:\n",
    "            return None\n",
    "        self.graph.visited.add(self)\n",
    "\n",
    "        if self == dst:\n",
    "            return (self,)\n",
    "        \n",
    "        for child in self.children:\n",
    "            child_path = child.dfs_search(dst)\n",
    "            if child_path != None:\n",
    "                return (self,) + child_path\n",
    "        return None"
   ]
  },
  {
   "cell_type": "markdown",
   "id": "c83e9993-765c-42a0-97f6-6277627acf95",
   "metadata": {},
   "source": [
    "### Testcases for DFS v1"
   ]
  },
  {
   "cell_type": "code",
   "execution_count": 4,
   "id": "15edd0d2",
   "metadata": {},
   "outputs": [
    {
     "data": {
      "image/svg+xml": [
       "<?xml version=\"1.0\" encoding=\"UTF-8\" standalone=\"no\"?>\n",
       "<!DOCTYPE svg PUBLIC \"-//W3C//DTD SVG 1.1//EN\"\n",
       " \"http://www.w3.org/Graphics/SVG/1.1/DTD/svg11.dtd\">\n",
       "<!-- Generated by graphviz version 2.43.0 (0)\n",
       " -->\n",
       "<!-- Title: %3 Pages: 1 -->\n",
       "<svg width=\"134pt\" height=\"188pt\"\n",
       " viewBox=\"0.00 0.00 134.00 188.00\" xmlns=\"http://www.w3.org/2000/svg\" xmlns:xlink=\"http://www.w3.org/1999/xlink\">\n",
       "<g id=\"graph0\" class=\"graph\" transform=\"scale(1 1) rotate(0) translate(4 184)\">\n",
       "<title>%3</title>\n",
       "<polygon fill=\"white\" stroke=\"transparent\" points=\"-4,4 -4,-184 130,-184 130,4 -4,4\"/>\n",
       "<!-- A -->\n",
       "<g id=\"node1\" class=\"node\">\n",
       "<title>A</title>\n",
       "<ellipse fill=\"none\" stroke=\"black\" cx=\"27\" cy=\"-162\" rx=\"27\" ry=\"18\"/>\n",
       "<text text-anchor=\"middle\" x=\"27\" y=\"-158.3\" font-family=\"Times,serif\" font-size=\"14.00\">A</text>\n",
       "</g>\n",
       "<!-- B -->\n",
       "<g id=\"node2\" class=\"node\">\n",
       "<title>B</title>\n",
       "<ellipse fill=\"none\" stroke=\"black\" cx=\"99\" cy=\"-162\" rx=\"27\" ry=\"18\"/>\n",
       "<text text-anchor=\"middle\" x=\"99\" y=\"-158.3\" font-family=\"Times,serif\" font-size=\"14.00\">B</text>\n",
       "</g>\n",
       "<!-- C -->\n",
       "<g id=\"node3\" class=\"node\">\n",
       "<title>C</title>\n",
       "<ellipse fill=\"none\" stroke=\"black\" cx=\"71\" cy=\"-90\" rx=\"27\" ry=\"18\"/>\n",
       "<text text-anchor=\"middle\" x=\"71\" y=\"-86.3\" font-family=\"Times,serif\" font-size=\"14.00\">C</text>\n",
       "</g>\n",
       "<!-- B&#45;&gt;C -->\n",
       "<g id=\"edge1\" class=\"edge\">\n",
       "<title>B&#45;&gt;C</title>\n",
       "<path fill=\"none\" stroke=\"black\" d=\"M92.36,-144.41C89.09,-136.22 85.06,-126.14 81.38,-116.95\"/>\n",
       "<polygon fill=\"black\" stroke=\"black\" points=\"84.55,-115.45 77.59,-107.47 78.05,-118.05 84.55,-115.45\"/>\n",
       "</g>\n",
       "<!-- D -->\n",
       "<g id=\"node4\" class=\"node\">\n",
       "<title>D</title>\n",
       "<ellipse fill=\"none\" stroke=\"black\" cx=\"98\" cy=\"-18\" rx=\"27\" ry=\"18\"/>\n",
       "<text text-anchor=\"middle\" x=\"98\" y=\"-14.3\" font-family=\"Times,serif\" font-size=\"14.00\">D</text>\n",
       "</g>\n",
       "<!-- C&#45;&gt;D -->\n",
       "<g id=\"edge2\" class=\"edge\">\n",
       "<title>C&#45;&gt;D</title>\n",
       "<path fill=\"none\" stroke=\"black\" d=\"M77.4,-72.41C80.51,-64.34 84.33,-54.43 87.83,-45.35\"/>\n",
       "<polygon fill=\"black\" stroke=\"black\" points=\"91.13,-46.55 91.46,-35.96 84.6,-44.03 91.13,-46.55\"/>\n",
       "</g>\n",
       "<!-- D&#45;&gt;B -->\n",
       "<g id=\"edge3\" class=\"edge\">\n",
       "<title>D&#45;&gt;B</title>\n",
       "<path fill=\"none\" stroke=\"black\" d=\"M101.65,-36.09C103.68,-46.43 105.98,-59.91 107,-72 108.34,-87.94 108.2,-92.04 107,-108 106.36,-116.48 105.16,-125.66 103.88,-133.96\"/>\n",
       "<polygon fill=\"black\" stroke=\"black\" points=\"100.42,-133.45 102.25,-143.89 107.32,-134.59 100.42,-133.45\"/>\n",
       "</g>\n",
       "</g>\n",
       "</svg>\n"
      ],
      "text/plain": [
       "<__main__.Graph at 0x7f442e28d990>"
      ]
     },
     "execution_count": 4,
     "metadata": {},
     "output_type": "execute_result"
    }
   ],
   "source": [
    "g = example(1)\n",
    "g"
   ]
  },
  {
   "cell_type": "code",
   "execution_count": 5,
   "id": "ca3de095-f22b-4e4a-95f3-e38e06634152",
   "metadata": {},
   "outputs": [
    {
     "data": {
      "text/plain": [
       "True"
      ]
     },
     "execution_count": 5,
     "metadata": {},
     "output_type": "execute_result"
    }
   ],
   "source": [
    "g.nodes[\"B\"].dfs_search_v1(g.nodes[\"B\"])"
   ]
  },
  {
   "cell_type": "code",
   "execution_count": 6,
   "id": "1bcfd0be-d3c1-4eb8-8c49-1b9ece470615",
   "metadata": {},
   "outputs": [
    {
     "data": {
      "text/plain": [
       "False"
      ]
     },
     "execution_count": 6,
     "metadata": {},
     "output_type": "execute_result"
    }
   ],
   "source": [
    "g.nodes[\"B\"].dfs_search_v1(g.nodes[\"D\"]) # should return (B, C, D)"
   ]
  },
  {
   "cell_type": "code",
   "execution_count": 7,
   "id": "db04edea-2ef9-4db4-bc75-aa2b93116cfb",
   "metadata": {},
   "outputs": [
    {
     "data": {
      "text/plain": [
       "False"
      ]
     },
     "execution_count": 7,
     "metadata": {},
     "output_type": "execute_result"
    }
   ],
   "source": [
    "g.nodes[\"B\"].dfs_search_v1(g.nodes[\"A\"]) # should return None\n",
    "# TODO: add visited set to avoid cycle"
   ]
  },
  {
   "cell_type": "code",
   "execution_count": 8,
   "id": "76caad6f-604b-4e46-88db-6b8ebeacf25e",
   "metadata": {},
   "outputs": [
    {
     "data": {
      "text/plain": [
       "False"
      ]
     },
     "execution_count": 8,
     "metadata": {},
     "output_type": "execute_result"
    }
   ],
   "source": [
    "g.nodes[\"B\"].dfs_search_v1(g.nodes[\"D\"]) # should return (B, C, D)\n",
    "g.nodes[\"B\"].dfs_search_v1(g.nodes[\"D\"]) # should return (B, C, D)\n",
    "# TODO: add dfs_search in Graph class to clear out visited set before second search"
   ]
  },
  {
   "cell_type": "code",
   "execution_count": 9,
   "id": "7138c065-7242-4894-a775-c4bbd63ca837",
   "metadata": {
    "tags": []
   },
   "outputs": [
    {
     "name": "stdout",
     "output_type": "stream",
     "text": [
      "True\n",
      "False\n",
      "True\n"
     ]
    }
   ],
   "source": [
    "print(g.dfs_search_v1(\"B\", \"D\")) # should return (B, C, D)\n",
    "print(g.dfs_search_v1(\"B\", \"A\")) # should return None\n",
    "print(g.dfs_search_v1(\"B\", \"D\")) # should return (B, C, D)"
   ]
  },
  {
   "cell_type": "markdown",
   "id": "6f869a5e-e9bc-42c8-b807-3453725d807a",
   "metadata": {},
   "source": [
    "### `tuple` review\n",
    "\n",
    "- similar to lists, but immutable\n",
    "- defined using `()`\n",
    "- `*` operator represents replication and not multiplication for lists and tuples\n",
    "- `+` operator represents concatenation and not additional for lists and tuples"
   ]
  },
  {
   "cell_type": "code",
   "execution_count": 10,
   "id": "a72b83e5-6e13-4a39-a81f-9a7be167a1b9",
   "metadata": {},
   "outputs": [
    {
     "data": {
      "text/plain": [
       "(5,)"
      ]
     },
     "execution_count": 10,
     "metadata": {},
     "output_type": "execute_result"
    }
   ],
   "source": [
    "(3+2,) # this is a tuple containing 5"
   ]
  },
  {
   "cell_type": "code",
   "execution_count": 11,
   "id": "fa6349d9-3da0-4ae1-ac6f-0e43e7bfbbfb",
   "metadata": {},
   "outputs": [
    {
     "data": {
      "text/plain": [
       "15"
      ]
     },
     "execution_count": 11,
     "metadata": {},
     "output_type": "execute_result"
    }
   ],
   "source": [
    "(3+2) * 3 # gives us 15"
   ]
  },
  {
   "cell_type": "code",
   "execution_count": 12,
   "id": "04f22204-c1df-4b05-bb70-1096cffbe6c8",
   "metadata": {},
   "outputs": [
    {
     "data": {
      "text/plain": [
       "(5, 5, 5)"
      ]
     },
     "execution_count": 12,
     "metadata": {},
     "output_type": "execute_result"
    }
   ],
   "source": [
    "# replicates item 5 three times and returns a new tuple\n",
    "(3+2,) * 3"
   ]
  },
  {
   "cell_type": "code",
   "execution_count": 13,
   "id": "1c070ca6-ffc4-47e1-820a-8a82de0c5105",
   "metadata": {},
   "outputs": [
    {
     "data": {
      "text/plain": [
       "(3, 5)"
      ]
     },
     "execution_count": 13,
     "metadata": {},
     "output_type": "execute_result"
    }
   ],
   "source": [
    "# returns a new tuple containing all items in the first tuple and \n",
    "# the second tuple\n",
    "(3, ) + (5, )"
   ]
  },
  {
   "cell_type": "markdown",
   "id": "49b39fc6-5a69-40a0-b229-d24e16ada1b8",
   "metadata": {},
   "source": [
    "### Testcases for DFS"
   ]
  },
  {
   "cell_type": "code",
   "execution_count": 14,
   "id": "a82e4516-1508-44a5-a39c-dc4209e62692",
   "metadata": {},
   "outputs": [],
   "source": [
    "g.nodes[\"B\"].dfs_search(g.nodes[\"B\"])"
   ]
  },
  {
   "cell_type": "code",
   "execution_count": 15,
   "id": "506d7c2a-6d0b-422d-959e-1f41883b9863",
   "metadata": {},
   "outputs": [],
   "source": [
    "g.nodes[\"B\"].dfs_search(g.nodes[\"D\"]) # should return (B, C, D)"
   ]
  },
  {
   "cell_type": "code",
   "execution_count": 16,
   "id": "f73f2cf8-44df-439d-af5e-e936ce556809",
   "metadata": {},
   "outputs": [],
   "source": [
    "g.nodes[\"B\"].dfs_search(g.nodes[\"A\"]) # should return None\n",
    "# TODO: add visited set to avoid cycle"
   ]
  },
  {
   "cell_type": "code",
   "execution_count": 17,
   "id": "59e638ab-382e-4f6b-a1a6-e377fd574737",
   "metadata": {},
   "outputs": [],
   "source": [
    "g.nodes[\"B\"].dfs_search(g.nodes[\"D\"]) # should return (B, C, D)\n",
    "g.nodes[\"B\"].dfs_search(g.nodes[\"D\"]) # should return (B, C, D)\n",
    "# TODO: add dfs_search in Graph class to clear out visited set before second search"
   ]
  },
  {
   "cell_type": "code",
   "execution_count": 18,
   "id": "d25ec05c-f6b8-4843-8107-64a4b79c5b5f",
   "metadata": {
    "tags": []
   },
   "outputs": [
    {
     "name": "stdout",
     "output_type": "stream",
     "text": [
      "(B, C, D)\n",
      "None\n",
      "(B, C, D)\n"
     ]
    }
   ],
   "source": [
    "print(g.dfs_search(\"B\", \"D\")) # should return (B, C, D)\n",
    "print(g.dfs_search(\"B\", \"A\")) # should return None\n",
    "print(g.dfs_search(\"B\", \"D\")) # should return (B, C, D)"
   ]
  },
  {
   "cell_type": "markdown",
   "id": "a92903d6",
   "metadata": {},
   "source": [
    "### Why is it called \"*Depth* First Search\"?\n",
    "\n",
    "- we start at the starting node and go as deep as possible because recursion always goes as deep as possible before coming back to the other children in the previous level\n",
    "- we need a `Stack` data structure:\n",
    "    - Last-In-First-Out (LIFO)\n",
    "- recursion naturally uses `Stack`, which is why we don't have to explicitly use a `Stack` data structure\n",
    "- might not give us the shortest possible path"
   ]
  },
  {
   "cell_type": "code",
   "execution_count": 19,
   "id": "e5baef43",
   "metadata": {},
   "outputs": [
    {
     "data": {
      "image/svg+xml": [
       "<?xml version=\"1.0\" encoding=\"UTF-8\" standalone=\"no\"?>\n",
       "<!DOCTYPE svg PUBLIC \"-//W3C//DTD SVG 1.1//EN\"\n",
       " \"http://www.w3.org/Graphics/SVG/1.1/DTD/svg11.dtd\">\n",
       "<!-- Generated by graphviz version 2.43.0 (0)\n",
       " -->\n",
       "<!-- Title: %3 Pages: 1 -->\n",
       "<svg width=\"89pt\" height=\"332pt\"\n",
       " viewBox=\"0.00 0.00 89.00 332.00\" xmlns=\"http://www.w3.org/2000/svg\" xmlns:xlink=\"http://www.w3.org/1999/xlink\">\n",
       "<g id=\"graph0\" class=\"graph\" transform=\"scale(1 1) rotate(0) translate(4 328)\">\n",
       "<title>%3</title>\n",
       "<polygon fill=\"white\" stroke=\"transparent\" points=\"-4,4 -4,-328 85,-328 85,4 -4,4\"/>\n",
       "<!-- A -->\n",
       "<g id=\"node1\" class=\"node\">\n",
       "<title>A</title>\n",
       "<ellipse fill=\"none\" stroke=\"black\" cx=\"54\" cy=\"-306\" rx=\"27\" ry=\"18\"/>\n",
       "<text text-anchor=\"middle\" x=\"54\" y=\"-302.3\" font-family=\"Times,serif\" font-size=\"14.00\">A</text>\n",
       "</g>\n",
       "<!-- B -->\n",
       "<g id=\"node2\" class=\"node\">\n",
       "<title>B</title>\n",
       "<ellipse fill=\"none\" stroke=\"black\" cx=\"27\" cy=\"-234\" rx=\"27\" ry=\"18\"/>\n",
       "<text text-anchor=\"middle\" x=\"27\" y=\"-230.3\" font-family=\"Times,serif\" font-size=\"14.00\">B</text>\n",
       "</g>\n",
       "<!-- A&#45;&gt;B -->\n",
       "<g id=\"edge1\" class=\"edge\">\n",
       "<title>A&#45;&gt;B</title>\n",
       "<path fill=\"none\" stroke=\"black\" d=\"M47.6,-288.41C44.49,-280.34 40.67,-270.43 37.17,-261.35\"/>\n",
       "<polygon fill=\"black\" stroke=\"black\" points=\"40.4,-260.03 33.54,-251.96 33.87,-262.55 40.4,-260.03\"/>\n",
       "</g>\n",
       "<!-- E -->\n",
       "<g id=\"node3\" class=\"node\">\n",
       "<title>E</title>\n",
       "<ellipse fill=\"none\" stroke=\"black\" cx=\"54\" cy=\"-18\" rx=\"27\" ry=\"18\"/>\n",
       "<text text-anchor=\"middle\" x=\"54\" y=\"-14.3\" font-family=\"Times,serif\" font-size=\"14.00\">E</text>\n",
       "</g>\n",
       "<!-- A&#45;&gt;E -->\n",
       "<g id=\"edge2\" class=\"edge\">\n",
       "<title>A&#45;&gt;E</title>\n",
       "<path fill=\"none\" stroke=\"black\" d=\"M57.65,-287.91C59.68,-277.57 61.98,-264.09 63,-252 69.72,-172.28 69.72,-151.72 63,-72 62.28,-63.5 60.93,-54.31 59.49,-46.01\"/>\n",
       "<polygon fill=\"black\" stroke=\"black\" points=\"62.91,-45.29 57.65,-36.09 56.03,-46.56 62.91,-45.29\"/>\n",
       "</g>\n",
       "<!-- C -->\n",
       "<g id=\"node4\" class=\"node\">\n",
       "<title>C</title>\n",
       "<ellipse fill=\"none\" stroke=\"black\" cx=\"27\" cy=\"-162\" rx=\"27\" ry=\"18\"/>\n",
       "<text text-anchor=\"middle\" x=\"27\" y=\"-158.3\" font-family=\"Times,serif\" font-size=\"14.00\">C</text>\n",
       "</g>\n",
       "<!-- B&#45;&gt;C -->\n",
       "<g id=\"edge3\" class=\"edge\">\n",
       "<title>B&#45;&gt;C</title>\n",
       "<path fill=\"none\" stroke=\"black\" d=\"M27,-215.7C27,-207.98 27,-198.71 27,-190.11\"/>\n",
       "<polygon fill=\"black\" stroke=\"black\" points=\"30.5,-190.1 27,-180.1 23.5,-190.1 30.5,-190.1\"/>\n",
       "</g>\n",
       "<!-- D -->\n",
       "<g id=\"node5\" class=\"node\">\n",
       "<title>D</title>\n",
       "<ellipse fill=\"none\" stroke=\"black\" cx=\"27\" cy=\"-90\" rx=\"27\" ry=\"18\"/>\n",
       "<text text-anchor=\"middle\" x=\"27\" y=\"-86.3\" font-family=\"Times,serif\" font-size=\"14.00\">D</text>\n",
       "</g>\n",
       "<!-- C&#45;&gt;D -->\n",
       "<g id=\"edge4\" class=\"edge\">\n",
       "<title>C&#45;&gt;D</title>\n",
       "<path fill=\"none\" stroke=\"black\" d=\"M27,-143.7C27,-135.98 27,-126.71 27,-118.11\"/>\n",
       "<polygon fill=\"black\" stroke=\"black\" points=\"30.5,-118.1 27,-108.1 23.5,-118.1 30.5,-118.1\"/>\n",
       "</g>\n",
       "<!-- D&#45;&gt;E -->\n",
       "<g id=\"edge5\" class=\"edge\">\n",
       "<title>D&#45;&gt;E</title>\n",
       "<path fill=\"none\" stroke=\"black\" d=\"M33.4,-72.41C36.51,-64.34 40.33,-54.43 43.83,-45.35\"/>\n",
       "<polygon fill=\"black\" stroke=\"black\" points=\"47.13,-46.55 47.46,-35.96 40.6,-44.03 47.13,-46.55\"/>\n",
       "</g>\n",
       "</g>\n",
       "</svg>\n"
      ],
      "text/plain": [
       "<__main__.Graph at 0x7f442c126830>"
      ]
     },
     "execution_count": 19,
     "metadata": {},
     "output_type": "execute_result"
    }
   ],
   "source": [
    "g = example(2)\n",
    "g"
   ]
  },
  {
   "cell_type": "code",
   "execution_count": 20,
   "id": "2a0b9c3d-1838-433d-82dd-14ba3859198f",
   "metadata": {},
   "outputs": [
    {
     "name": "stdout",
     "output_type": "stream",
     "text": [
      "(A, B, C, D, E)\n",
      "None\n"
     ]
    }
   ],
   "source": [
    "print(g.dfs_search(\"A\", \"E\")) # should return (A, B, C, D, E)\n",
    "print(g.dfs_search(\"E\", \"A\")) # should return None"
   ]
  }
 ],
 "metadata": {
  "kernelspec": {
   "display_name": "Python 3 (ipykernel)",
   "language": "python",
   "name": "python3"
  },
  "language_info": {
   "codemirror_mode": {
    "name": "ipython",
    "version": 3
   },
   "file_extension": ".py",
   "mimetype": "text/x-python",
   "name": "python",
   "nbconvert_exporter": "python",
   "pygments_lexer": "ipython3",
   "version": "3.10.6"
  }
 },
 "nbformat": 4,
 "nbformat_minor": 5
}
