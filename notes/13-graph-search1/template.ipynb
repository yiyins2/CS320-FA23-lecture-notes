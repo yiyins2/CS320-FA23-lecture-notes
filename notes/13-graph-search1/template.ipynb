{
 "cells": [
  {
   "cell_type": "markdown",
   "id": "d684d88e-e96d-4392-b4d6-92d3f1669b32",
   "metadata": {},
   "source": [
    "# Graph Search 1\n",
    "\n",
    "- Depth First Search (Stack)\n",
    "- Breadth First Search (Queue)"
   ]
  },
  {
   "cell_type": "code",
   "execution_count": null,
   "id": "66ba808a",
   "metadata": {},
   "outputs": [],
   "source": [
    "from graphviz import Digraph"
   ]
  },
  {
   "cell_type": "markdown",
   "id": "e042962c",
   "metadata": {},
   "source": [
    "### Depth First Search (DFS) \n",
    "- Finds a path from one node to another -- works on any directed graph"
   ]
  },
  {
   "cell_type": "code",
   "execution_count": null,
   "id": "c00e99eb",
   "metadata": {},
   "outputs": [],
   "source": [
    "def example(num):\n",
    "    g = Graph()\n",
    "    if num == 1:\n",
    "        g.node(\"A\")\n",
    "        g.edge(\"B\", \"C\")\n",
    "        g.edge(\"C\", \"D\")\n",
    "        g.edge(\"D\", \"B\")\n",
    "    elif num == 2:\n",
    "        g.edge(\"A\", \"B\")\n",
    "        g.edge(\"B\", \"C\")\n",
    "        g.edge(\"C\", \"D\")\n",
    "        g.edge(\"D\", \"E\")\n",
    "        g.edge(\"A\", \"E\")\n",
    "    elif num == 3:\n",
    "        g.edge(\"A\", \"B\")\n",
    "        g.edge(\"A\", \"C\")\n",
    "        g.edge(\"B\", \"D\")\n",
    "        g.edge(\"B\", \"E\")\n",
    "        g.edge(\"C\", \"F\")\n",
    "        g.edge(\"C\", \"G\")\n",
    "    elif num == 4:\n",
    "        g.edge(\"A\", \"B\")\n",
    "        g.edge(\"A\", \"C\")\n",
    "        g.edge(\"B\", \"D\")\n",
    "        g.edge(\"B\", \"E\")\n",
    "        g.edge(\"C\", \"F\")\n",
    "        g.edge(\"C\", \"G\")\n",
    "        g.edge(\"E\", \"Z\")\n",
    "        g.edge(\"C\", \"Z\")\n",
    "        g.edge(\"B\", \"A\")\n",
    "    elif num == 5:\n",
    "        width = 8\n",
    "        height = 4\n",
    "        for L1 in range(height-1):\n",
    "            L2 = L1 + 1\n",
    "            for i in range(width-(height-L1-1)):\n",
    "                for j in range(width-(height-L2-1)):\n",
    "                    node1 = str(L1)+\"-\"+str(i)\n",
    "                    node2 = str(L2)+\"-\"+str(j)\n",
    "                    g.edge(node1, node2)\n",
    "    else:\n",
    "        raise Exception(\"no such example\")\n",
    "    return g"
   ]
  },
  {
   "cell_type": "markdown",
   "id": "6690b3be",
   "metadata": {},
   "source": [
    "### For a regular graph, you need a new class `Graph` to keep track of the whole graph.\n",
    "- Why? Remember graphs need not have a \"root\" node, which means there is no one origin point"
   ]
  },
  {
   "cell_type": "code",
   "execution_count": null,
   "id": "8f5e8b06",
   "metadata": {},
   "outputs": [],
   "source": [
    "class Graph:\n",
    "    def __init__(self):\n",
    "        # name => Node\n",
    "        self.nodes = {}\n",
    "        # to keep track which nodes have already been visited\n",
    "        # ???\n",
    "\n",
    "    def node(self, name):\n",
    "        node = Node(name)\n",
    "        self.nodes[name] = node\n",
    "        node.graph = self\n",
    "    \n",
    "    def edge(self, src, dst):\n",
    "        \"\"\"\n",
    "        Automatically adds missing nodes.\n",
    "        \"\"\"\n",
    "        for name in [src, dst]:\n",
    "            if not name in self.nodes:\n",
    "                self.node(name)\n",
    "        self.nodes[src].children.append(self.nodes[dst])\n",
    "\n",
    "    def _repr_svg_(self):\n",
    "        \"\"\"\n",
    "        Draws the graph nodes and edges iteratively.\n",
    "        \"\"\"\n",
    "        g = Digraph()\n",
    "        for n in self.nodes:\n",
    "            g.node(n)\n",
    "            for child in self.nodes[n].children:\n",
    "                g.edge(n, child.name)\n",
    "        return g._repr_image_svg_xml()\n",
    "    \n",
    "    def dfs_search_v1(self, src_name, dst_name):\n",
    "        \"\"\"\n",
    "        Clears the visited set and invokes dfs_search using Node object instance\n",
    "        with name src_name.\n",
    "        \"\"\"\n",
    "        # Q: is this method recursive?\n",
    "        # A: no, it is just invoking dfs_search method for Node object instance\n",
    "        #    dfs_search method in Node class is recursive\n",
    "        #    These methods in two different classes just happen to share the same name\n",
    "        pass\n",
    "    \n",
    "    def dfs_search(self, src_name, dst_name):\n",
    "        pass\n",
    "\n",
    "class Node:\n",
    "    def __init__(self, name):\n",
    "        self.name = name\n",
    "        self.children = []\n",
    "        self.graph = None # back reference\n",
    "        self.finder = None # who found me during BFS\n",
    "        \n",
    "    def __repr__(self):\n",
    "        return self.name\n",
    "    \n",
    "    def dfs_search_v1(self, dst):\n",
    "        \"\"\"\n",
    "        Returns True / False when path to dst is found / not found\n",
    "        \"\"\"\n",
    "        # TODO: what is the simplest case? current node is the dst\n",
    "        pass\n",
    "\n",
    "    def dfs_search(self, dst):\n",
    "        \"\"\"\n",
    "        Returns the actual path to the dst as a tuple or None otherwise\n",
    "        \"\"\"\n",
    "        # TODO: what is the simplest case? current node is the dst\n",
    "        pass"
   ]
  },
  {
   "cell_type": "markdown",
   "id": "c83e9993-765c-42a0-97f6-6277627acf95",
   "metadata": {},
   "source": [
    "### Testcases for DFS v1"
   ]
  },
  {
   "cell_type": "code",
   "execution_count": null,
   "id": "15edd0d2",
   "metadata": {},
   "outputs": [],
   "source": [
    "g = example(1)\n",
    "g"
   ]
  },
  {
   "cell_type": "code",
   "execution_count": null,
   "id": "ca3de095-f22b-4e4a-95f3-e38e06634152",
   "metadata": {},
   "outputs": [],
   "source": [
    "g.nodes[\"B\"].dfs_search_v1(g.nodes[\"B\"])"
   ]
  },
  {
   "cell_type": "code",
   "execution_count": null,
   "id": "1bcfd0be-d3c1-4eb8-8c49-1b9ece470615",
   "metadata": {},
   "outputs": [],
   "source": [
    "g.nodes[\"B\"].dfs_search_v1(g.nodes[\"D\"]) # should return (B, C, D)"
   ]
  },
  {
   "cell_type": "code",
   "execution_count": null,
   "id": "db04edea-2ef9-4db4-bc75-aa2b93116cfb",
   "metadata": {},
   "outputs": [],
   "source": [
    "g.nodes[\"B\"].dfs_search_v1(g.nodes[\"A\"]) # should return None\n",
    "# TODO: add visited set to avoid cycle"
   ]
  },
  {
   "cell_type": "code",
   "execution_count": null,
   "id": "76caad6f-604b-4e46-88db-6b8ebeacf25e",
   "metadata": {},
   "outputs": [],
   "source": [
    "g.nodes[\"B\"].dfs_search_v1(g.nodes[\"D\"]) # should return (B, C, D)\n",
    "g.nodes[\"B\"].dfs_search_v1(g.nodes[\"D\"]) # should return (B, C, D)\n",
    "# TODO: add dfs_search in Graph class to clear out visited set before second search"
   ]
  },
  {
   "cell_type": "code",
   "execution_count": null,
   "id": "7138c065-7242-4894-a775-c4bbd63ca837",
   "metadata": {
    "tags": []
   },
   "outputs": [],
   "source": [
    "print(g.dfs_search_v1(\"B\", \"D\")) # should return (B, C, D)\n",
    "print(g.dfs_search_v1(\"B\", \"A\")) # should return None\n",
    "print(g.dfs_search_v1(\"B\", \"D\")) # should return (B, C, D)"
   ]
  },
  {
   "cell_type": "markdown",
   "id": "6f869a5e-e9bc-42c8-b807-3453725d807a",
   "metadata": {},
   "source": [
    "### `tuple` review\n",
    "\n",
    "- similar to lists, but immutable\n",
    "- defined using `()`\n",
    "- `*` operator represents replication and not multiplication for lists and tuples\n",
    "- `+` operator represents concatenation and not additional for lists and tuples"
   ]
  },
  {
   "cell_type": "code",
   "execution_count": null,
   "id": "a72b83e5-6e13-4a39-a81f-9a7be167a1b9",
   "metadata": {},
   "outputs": [],
   "source": [
    "(3+2,) # this is a tuple containing 5"
   ]
  },
  {
   "cell_type": "code",
   "execution_count": null,
   "id": "fa6349d9-3da0-4ae1-ac6f-0e43e7bfbbfb",
   "metadata": {},
   "outputs": [],
   "source": [
    "(3+2) * 3 # gives us 15"
   ]
  },
  {
   "cell_type": "code",
   "execution_count": null,
   "id": "04f22204-c1df-4b05-bb70-1096cffbe6c8",
   "metadata": {},
   "outputs": [],
   "source": [
    "# replicates item 5 three times and returns a new tuple\n",
    "(3+2,) * 3"
   ]
  },
  {
   "cell_type": "code",
   "execution_count": null,
   "id": "1c070ca6-ffc4-47e1-820a-8a82de0c5105",
   "metadata": {},
   "outputs": [],
   "source": [
    "# returns a new tuple containing all items in the first tuple and \n",
    "# the second tuple\n",
    "(3, ) + (5, )"
   ]
  },
  {
   "cell_type": "markdown",
   "id": "49b39fc6-5a69-40a0-b229-d24e16ada1b8",
   "metadata": {},
   "source": [
    "### Testcases for DFS"
   ]
  },
  {
   "cell_type": "code",
   "execution_count": null,
   "id": "a82e4516-1508-44a5-a39c-dc4209e62692",
   "metadata": {},
   "outputs": [],
   "source": [
    "g.nodes[\"B\"].dfs_search(g.nodes[\"B\"])"
   ]
  },
  {
   "cell_type": "code",
   "execution_count": null,
   "id": "506d7c2a-6d0b-422d-959e-1f41883b9863",
   "metadata": {},
   "outputs": [],
   "source": [
    "g.nodes[\"B\"].dfs_search(g.nodes[\"D\"]) # should return (B, C, D)"
   ]
  },
  {
   "cell_type": "code",
   "execution_count": null,
   "id": "f73f2cf8-44df-439d-af5e-e936ce556809",
   "metadata": {},
   "outputs": [],
   "source": [
    "g.nodes[\"B\"].dfs_search(g.nodes[\"A\"]) # should return None\n",
    "# TODO: add visited set to avoid cycle"
   ]
  },
  {
   "cell_type": "code",
   "execution_count": null,
   "id": "59e638ab-382e-4f6b-a1a6-e377fd574737",
   "metadata": {},
   "outputs": [],
   "source": [
    "g.nodes[\"B\"].dfs_search(g.nodes[\"D\"]) # should return (B, C, D)\n",
    "g.nodes[\"B\"].dfs_search(g.nodes[\"D\"]) # should return (B, C, D)\n",
    "# TODO: add dfs_search in Graph class to clear out visited set before second search"
   ]
  },
  {
   "cell_type": "code",
   "execution_count": null,
   "id": "d25ec05c-f6b8-4843-8107-64a4b79c5b5f",
   "metadata": {
    "tags": []
   },
   "outputs": [],
   "source": [
    "print(g.dfs_search(\"B\", \"D\")) # should return (B, C, D)\n",
    "print(g.dfs_search(\"B\", \"A\")) # should return None\n",
    "print(g.dfs_search(\"B\", \"D\")) # should return (B, C, D)"
   ]
  },
  {
   "cell_type": "markdown",
   "id": "a92903d6",
   "metadata": {},
   "source": [
    "### Why is it called \"*Depth* First Search\"?\n",
    "\n",
    "- we start at the starting node and go as deep as possible because recursion always goes as deep as possible before coming back to the other children in the previous level\n",
    "- we need a `Stack` data structure:\n",
    "    - Last-In-First-Out (LIFO)\n",
    "- recursion naturally uses `Stack`, which is why we don't have to explicitly use a `Stack` data structure\n",
    "- might not give us the shortest possible path"
   ]
  },
  {
   "cell_type": "code",
   "execution_count": null,
   "id": "e5baef43",
   "metadata": {},
   "outputs": [],
   "source": [
    "g = example(2)\n",
    "g"
   ]
  },
  {
   "cell_type": "code",
   "execution_count": null,
   "id": "2a0b9c3d-1838-433d-82dd-14ba3859198f",
   "metadata": {},
   "outputs": [],
   "source": [
    "print(g.dfs_search(\"A\", \"E\")) # should return (A, B, C, D, E)\n",
    "print(g.dfs_search(\"E\", \"A\")) # should return None"
   ]
  }
 ],
 "metadata": {
  "kernelspec": {
   "display_name": "Python 3 (ipykernel)",
   "language": "python",
   "name": "python3"
  },
  "language_info": {
   "codemirror_mode": {
    "name": "ipython",
    "version": 3
   },
   "file_extension": ".py",
   "mimetype": "text/x-python",
   "name": "python",
   "nbconvert_exporter": "python",
   "pygments_lexer": "ipython3",
   "version": "3.10.6"
  }
 },
 "nbformat": 4,
 "nbformat_minor": 5
}
